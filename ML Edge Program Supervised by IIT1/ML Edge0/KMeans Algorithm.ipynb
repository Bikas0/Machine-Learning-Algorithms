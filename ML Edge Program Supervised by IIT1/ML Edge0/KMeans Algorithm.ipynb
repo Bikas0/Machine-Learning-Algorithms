{
 "cells": [
  {
   "cell_type": "code",
   "execution_count": 1,
   "id": "4273e1e6",
   "metadata": {},
   "outputs": [],
   "source": [
    "import matplotlib.pyplot as plt\n",
    "import seaborn as sns\n",
    "from sklearn.datasets import make_blobs"
   ]
  },
  {
   "cell_type": "code",
   "execution_count": 25,
   "id": "be19d2f4",
   "metadata": {},
   "outputs": [],
   "source": [
    "data = make_blobs(n_samples = 200, n_features = 2, centers = 5, cluster_std = 1.7, random_state = 101)"
   ]
  },
  {
   "cell_type": "code",
   "execution_count": 26,
   "id": "ffcb3a3e",
   "metadata": {},
   "outputs": [
    {
     "data": {
      "text/plain": [
       "(array([[  3.35569273,  10.91772057],\n",
       "        [  2.07214561,   1.1471353 ],\n",
       "        [  5.14047734,  -4.03666301],\n",
       "        [ -2.15378015,   9.62651856],\n",
       "        [  7.97557427,  -6.69731774],\n",
       "        [  6.45609535,  -5.62214292],\n",
       "        [  4.95285523,  -5.30034513],\n",
       "        [  5.62657032,   8.20419098],\n",
       "        [ -3.49647748,   7.46339468],\n",
       "        [ -2.02299161,   3.93359408],\n",
       "        [ -2.57237353,  -0.55715127],\n",
       "        [  3.09470003,  -4.53323286],\n",
       "        [ -8.87317941,  -5.42294206],\n",
       "        [  3.96676305,   6.96292227],\n",
       "        [  2.2522778 ,   9.40272367],\n",
       "        [  3.74914871,  -9.22632062],\n",
       "        [  0.0516635 ,   2.23922659],\n",
       "        [ -8.09887818,  -7.77478823],\n",
       "        [  1.95525847,   4.08568284],\n",
       "        [ -1.66728472,   5.35911867],\n",
       "        [  0.6523229 ,   4.77723919],\n",
       "        [ -1.12586072,   4.03473543],\n",
       "        [ -3.10291346,   2.67155923],\n",
       "        [ -8.76163218,  -7.64142815],\n",
       "        [-11.29659361,  -9.81318187],\n",
       "        [ -1.27581833,   2.23742954],\n",
       "        [ -1.45155266,   3.61105152],\n",
       "        [  6.72894921,  -5.76401002],\n",
       "        [ -8.3269643 ,  -5.95936798],\n",
       "        [  5.06915956,   3.84312473],\n",
       "        [  0.64875458,   0.12326924],\n",
       "        [ -5.10076838,   6.64807502],\n",
       "        [  3.4812992 ,   4.4082813 ],\n",
       "        [  0.87384083,  10.46263737],\n",
       "        [  0.27499974,   4.71123667],\n",
       "        [ -7.50322039,  -5.67164943],\n",
       "        [ -1.60432326,   1.41397475],\n",
       "        [ -6.22625801,   8.12298859],\n",
       "        [  2.01534742,   3.44016082],\n",
       "        [  3.01790225,  -7.04092115],\n",
       "        [  2.04744574,   4.88469124],\n",
       "        [ -9.50816549,  -6.54845119],\n",
       "        [-10.7417741 ,  -6.38175528],\n",
       "        [  2.71888856,   8.73328364],\n",
       "        [  0.98422408,   4.95618324],\n",
       "        [  4.19999597,  -7.40935482],\n",
       "        [  6.4014207 ,   8.25835558],\n",
       "        [  3.04068839,   9.64184806],\n",
       "        [  4.98754607,   5.36546816],\n",
       "        [  4.26801119,   4.87075413],\n",
       "        [-12.78394415,  -8.04327144],\n",
       "        [-11.08188283,  -9.15753276],\n",
       "        [  4.64522299,  -5.40894587],\n",
       "        [  1.60499539,   5.32060972],\n",
       "        [  6.56088141,  -7.98341139],\n",
       "        [  2.97279355,  -6.83616272],\n",
       "        [ -9.15548745,  -5.15341702],\n",
       "        [  4.02085391,   4.98810616],\n",
       "        [-11.78565902,  -8.82998898],\n",
       "        [  3.99121151,   0.37591168],\n",
       "        [  1.48602835,   3.17306436],\n",
       "        [  1.31002598,   8.15847918],\n",
       "        [  4.48798088,  -6.57557441],\n",
       "        [  1.07109876,   7.41786722],\n",
       "        [  2.40345851,   8.31384584],\n",
       "        [ -5.43929947,  10.78937688],\n",
       "        [  3.04213662,  -5.99333369],\n",
       "        [ -6.41244571,   9.67146837],\n",
       "        [  4.74059703,   7.16494133],\n",
       "        [ -4.34561211,  11.42617815],\n",
       "        [ -9.36003357,  -7.26836106],\n",
       "        [ -2.73692597,   7.30629623],\n",
       "        [  2.39988837,  -6.44811412],\n",
       "        [  4.15809116,   7.37932353],\n",
       "        [  5.21689214,   3.55119379],\n",
       "        [  5.84737591,   5.91651005],\n",
       "        [ -1.3605754 ,   1.7479109 ],\n",
       "        [ -9.72641159,  -5.24332936],\n",
       "        [  2.25263274,  -4.03077745],\n",
       "        [ -7.96143518,  -9.22315034],\n",
       "        [ -4.12464438,   6.14977397],\n",
       "        [ -3.46952763,   8.92398018],\n",
       "        [  0.99520353,   1.7898859 ],\n",
       "        [  5.37062757,  -6.52508987],\n",
       "        [  1.22695549,   0.41205083],\n",
       "        [ -8.3394461 ,  -8.10823671],\n",
       "        [ -4.50304014,  11.1964754 ],\n",
       "        [  7.26819575,  -3.68496982],\n",
       "        [  3.19819887,   6.72747776],\n",
       "        [ -1.25853071,   3.0369478 ],\n",
       "        [ -5.225509  ,   7.44134664],\n",
       "        [  0.57791807,   0.59829007],\n",
       "        [  0.64608424,   0.16751499],\n",
       "        [  3.64700585,   7.84823157],\n",
       "        [  4.40372014,  -8.63754292],\n",
       "        [ -3.66588812,   7.24583285],\n",
       "        [ -9.09472469,  -2.65448852],\n",
       "        [ -8.27870578,  -6.52518756],\n",
       "        [ -3.65812917,   9.00397639],\n",
       "        [-12.28359769,  -6.0018126 ],\n",
       "        [  2.77519782,   7.52237307],\n",
       "        [  3.90647532,  -7.63273396],\n",
       "        [ -1.38084521,   0.15230924],\n",
       "        [-11.80760792,  -6.94239509],\n",
       "        [ -0.70723143,   8.72608717],\n",
       "        [  4.82461282,  -5.9370207 ],\n",
       "        [-11.26731696,  -5.03549069],\n",
       "        [ -3.94772047,   7.12574395],\n",
       "        [ -2.16680128,   0.57338963],\n",
       "        [-10.79842304,  -6.1385352 ],\n",
       "        [ -1.24601369,   4.58022077],\n",
       "        [ -8.20517655,  -8.64880634],\n",
       "        [ -6.27628972,   8.41908289],\n",
       "        [ -8.29777262,  -7.48456574],\n",
       "        [  3.84412934,   5.97211236],\n",
       "        [  1.22840241,  -8.43526261],\n",
       "        [  3.79676411,   3.08224499],\n",
       "        [ -9.2713479 ,  -4.46018543],\n",
       "        [  0.84250382,   4.29268071],\n",
       "        [ -8.20019804,   7.81798574],\n",
       "        [  2.00538775,  -4.05841267],\n",
       "        [  5.24034359,   5.76349169],\n",
       "        [  3.23037227,   8.48454496],\n",
       "        [ -5.31979277,   7.49450418],\n",
       "        [  1.5154408 ,  -3.90614307],\n",
       "        [ -4.65756129,   9.33442655],\n",
       "        [ -5.69857668,   7.87165816],\n",
       "        [  5.52760228,  -6.70720397],\n",
       "        [ -0.31210919,   1.80492352],\n",
       "        [  4.19072465,  -6.05582194],\n",
       "        [  0.09874333,   2.07724907],\n",
       "        [ -9.0276229 ,  -6.22824008],\n",
       "        [  2.23522662,  -4.49951717],\n",
       "        [  5.71563897,  -3.21241395],\n",
       "        [  4.45386023,  -9.86724993],\n",
       "        [  1.70107261,   1.53738319],\n",
       "        [  3.49239227,   5.07043744],\n",
       "        [  4.00815509,   5.61236806],\n",
       "        [  3.58951754,  -6.07921196],\n",
       "        [  3.55373228,   7.86550014],\n",
       "        [ -6.48274324,   6.47637531],\n",
       "        [ -2.51065715,  10.18377196],\n",
       "        [ -4.61865934,   9.03824699],\n",
       "        [-10.39710378,  -4.17709185],\n",
       "        [ -8.84649885,  -6.23589884],\n",
       "        [  5.17365216,   4.8477334 ],\n",
       "        [-10.08205429,  -7.2654083 ],\n",
       "        [ -1.46845457,   7.97591197],\n",
       "        [  5.35594794,  -5.01411817],\n",
       "        [ -3.70648774,  10.11917768],\n",
       "        [ -1.59951662,   2.45116418],\n",
       "        [ -8.9109419 ,  -6.15616493],\n",
       "        [  4.09818267,  -7.309824  ],\n",
       "        [  5.89907462,  -7.43668003],\n",
       "        [  1.71228712,  -9.71824272],\n",
       "        [  7.48916003,  -8.43307214],\n",
       "        [  0.61171044,   1.7270049 ],\n",
       "        [ -5.70931662,   3.50705783],\n",
       "        [ -6.69898971,  -8.46627382],\n",
       "        [  5.21870399,  -9.95217239],\n",
       "        [ -0.17945971,   5.71795329],\n",
       "        [  5.74850448,   5.28314987],\n",
       "        [ -2.44227292,   7.63352748],\n",
       "        [-10.09548174,  -4.8214685 ],\n",
       "        [  5.38645347,   7.55145289],\n",
       "        [  1.41391048,   1.97375045],\n",
       "        [  1.96245142,  -2.22670916],\n",
       "        [  6.99744715,  -5.90425947],\n",
       "        [-10.33571536,  -2.96943033],\n",
       "        [  0.27428801,   2.51805565],\n",
       "        [  0.12945792,   4.64633489],\n",
       "        [ -2.29578281,  10.16579539],\n",
       "        [ -4.16991188,   6.8467613 ],\n",
       "        [ -0.95608052,   0.82444028],\n",
       "        [ -7.35003257,   7.5889632 ],\n",
       "        [ -0.51710428,   0.13143325],\n",
       "        [  2.33297946,  -7.80860994],\n",
       "        [ -2.54832654,   8.37242986],\n",
       "        [  0.73278838,   4.80766062],\n",
       "        [  8.85298539,  -7.24255925],\n",
       "        [ -3.16777864,   9.24559426],\n",
       "        [ -2.14822458,   8.4328938 ],\n",
       "        [  1.48451972,   3.90196646],\n",
       "        [ -4.23447424,   8.37001332],\n",
       "        [  6.0290817 ,  -4.93264484],\n",
       "        [ -9.85874029,  -7.55237132],\n",
       "        [ -8.43287507,  -9.32585818],\n",
       "        [  2.76905043,   8.27941371],\n",
       "        [ -7.77179201,  -7.22957267],\n",
       "        [-14.08340628,  -3.98121129],\n",
       "        [ -8.19117513,  -8.03682203],\n",
       "        [  7.15576475,   4.899128  ],\n",
       "        [-10.07669142,  -9.40186748],\n",
       "        [  1.27788055,   3.15552921],\n",
       "        [  6.68396415,   7.86036668],\n",
       "        [  2.12759142,   8.11767388],\n",
       "        [ -8.51266516,   6.19750174],\n",
       "        [ -3.07979239,   8.86763315],\n",
       "        [-11.10123467,  -2.77592296],\n",
       "        [  4.75811693,   2.57531684]]),\n",
       " array([2, 0, 4, 3, 4, 4, 4, 2, 3, 0, 0, 4, 1, 2, 2, 4, 0, 1, 2, 3, 0, 0,\n",
       "        0, 1, 1, 0, 0, 4, 1, 2, 0, 3, 2, 3, 0, 1, 0, 3, 0, 4, 2, 1, 1, 2,\n",
       "        0, 4, 2, 2, 2, 2, 1, 1, 4, 2, 4, 4, 1, 2, 1, 0, 0, 2, 4, 2, 2, 3,\n",
       "        4, 3, 2, 3, 1, 3, 4, 2, 2, 2, 0, 1, 4, 1, 3, 3, 0, 4, 0, 1, 3, 4,\n",
       "        2, 0, 3, 0, 0, 2, 4, 3, 1, 1, 3, 1, 2, 4, 0, 1, 3, 4, 1, 3, 0, 1,\n",
       "        0, 1, 3, 1, 2, 4, 2, 1, 0, 3, 4, 2, 2, 3, 4, 3, 3, 4, 0, 4, 0, 1,\n",
       "        4, 4, 4, 0, 2, 2, 4, 2, 3, 3, 3, 1, 1, 2, 1, 3, 4, 3, 0, 1, 4, 4,\n",
       "        4, 4, 0, 3, 1, 4, 3, 2, 3, 1, 2, 0, 0, 4, 1, 0, 0, 3, 3, 0, 3, 0,\n",
       "        4, 3, 0, 4, 3, 3, 2, 3, 4, 1, 1, 2, 1, 1, 1, 2, 1, 0, 2, 2, 3, 3,\n",
       "        1, 0]))"
      ]
     },
     "execution_count": 26,
     "metadata": {},
     "output_type": "execute_result"
    }
   ],
   "source": [
    "data"
   ]
  },
  {
   "cell_type": "code",
   "execution_count": 27,
   "id": "b6c8a7ce",
   "metadata": {},
   "outputs": [
    {
     "data": {
      "text/plain": [
       "<matplotlib.collections.PathCollection at 0x1b4e80fbf10>"
      ]
     },
     "execution_count": 27,
     "metadata": {},
     "output_type": "execute_result"
    },
    {
     "data": {
      "image/png": "[encoded data removed]",
      "text/plain": [
       "<Figure size 640x480 with 1 Axes>"
      ]
     },
     "metadata": {},
     "output_type": "display_data"
    }
   ],
   "source": [
    "plt.scatter(data[0][:,0], data[0][:,1])"
   ]
  },
  {
   "cell_type": "code",
   "execution_count": 28,
   "id": "6297697b",
   "metadata": {},
   "outputs": [
    {
     "data": {
      "text/plain": [
       "<matplotlib.collections.PathCollection at 0x1b4e81927d0>"
      ]
     },
     "execution_count": 28,
     "metadata": {},
     "output_type": "execute_result"
    },
    {
     "data": {
      "image/png": "[encoded data removed]",
      "text/plain": [
       "<Figure size 640x480 with 1 Axes>"
      ]
     },
     "metadata": {},
     "output_type": "display_data"
    }
   ],
   "source": [
    "plt.scatter(data[0][:,0], data[0][:,1], c = data[1], cmap = \"rainbow\")"
   ]
  },
  {
   "cell_type": "code",
   "execution_count": 29,
   "id": "655d69b2",
   "metadata": {},
   "outputs": [],
   "source": [
    "from sklearn.cluster import KMeans"
   ]
  },
  {
   "cell_type": "code",
   "execution_count": 30,
   "id": "97c75c81",
   "metadata": {},
   "outputs": [
    {
     "name": "stderr",
     "output_type": "stream",
     "text": [
      "C:\\Users\\Admin\\anaconda3\\Lib\\site-packages\\sklearn\\cluster\\_kmeans.py:1382: UserWarning: KMeans is known to have a memory leak on Windows with MKL, when there are less chunks than available threads. You can avoid it by setting the environment variable OMP_NUM_THREADS=1.\n",
      "  warnings.warn(\n"
     ]
    },
    {
     "data": {
      "text/html": [
       "<style>#sk-container-id-3 {color: black;background-color: white;}#sk-container-id-3 pre{padding: 0;}#sk-container-id-3 div.sk-toggleable {background-color: white;}#sk-container-id-3 label.sk-toggleable__label {cursor: pointer;display: block;width: 100%;margin-bottom: 0;padding: 0.3em;box-sizing: border-box;text-align: center;}#sk-container-id-3 label.sk-toggleable__label-arrow:before {content: \"▸\";float: left;margin-right: 0.25em;color: #696969;}#sk-container-id-3 label.sk-toggleable__label-arrow:hover:before {color: black;}#sk-container-id-3 div.sk-estimator:hover label.sk-toggleable__label-arrow:before {color: black;}#sk-container-id-3 div.sk-toggleable__content {max-height: 0;max-width: 0;overflow: hidden;text-align: left;background-color: #f0f8ff;}#sk-container-id-3 div.sk-toggleable__content pre {margin: 0.2em;color: black;border-radius: 0.25em;background-color: #f0f8ff;}#sk-container-id-3 input.sk-toggleable__control:checked~div.sk-toggleable__content {max-height: 200px;max-width: 100%;overflow: auto;}#sk-container-id-3 input.sk-toggleable__control:checked~label.sk-toggleable__label-arrow:before {content: \"▾\";}#sk-container-id-3 div.sk-estimator input.sk-toggleable__control:checked~label.sk-toggleable__label {background-color: #d4ebff;}#sk-container-id-3 div.sk-label input.sk-toggleable__control:checked~label.sk-toggleable__label {background-color: #d4ebff;}#sk-container-id-3 input.sk-hidden--visually {border: 0;clip: rect(1px 1px 1px 1px);clip: rect(1px, 1px, 1px, 1px);height: 1px;margin: -1px;overflow: hidden;padding: 0;position: absolute;width: 1px;}#sk-container-id-3 div.sk-estimator {font-family: monospace;background-color: #f0f8ff;border: 1px dotted black;border-radius: 0.25em;box-sizing: border-box;margin-bottom: 0.5em;}#sk-container-id-3 div.sk-estimator:hover {background-color: #d4ebff;}#sk-container-id-3 div.sk-parallel-item::after {content: \"\";width: 100%;border-bottom: 1px solid gray;flex-grow: 1;}#sk-container-id-3 div.sk-label:hover label.sk-toggleable__label {background-color: #d4ebff;}#sk-container-id-3 div.sk-serial::before {content: \"\";position: absolute;border-left: 1px solid gray;box-sizing: border-box;top: 0;bottom: 0;left: 50%;z-index: 0;}#sk-container-id-3 div.sk-serial {display: flex;flex-direction: column;align-items: center;background-color: white;padding-right: 0.2em;padding-left: 0.2em;position: relative;}#sk-container-id-3 div.sk-item {position: relative;z-index: 1;}#sk-container-id-3 div.sk-parallel {display: flex;align-items: stretch;justify-content: center;background-color: white;position: relative;}#sk-container-id-3 div.sk-item::before, #sk-container-id-3 div.sk-parallel-item::before {content: \"\";position: absolute;border-left: 1px solid gray;box-sizing: border-box;top: 0;bottom: 0;left: 50%;z-index: -1;}#sk-container-id-3 div.sk-parallel-item {display: flex;flex-direction: column;z-index: 1;position: relative;background-color: white;}#sk-container-id-3 div.sk-parallel-item:first-child::after {align-self: flex-end;width: 50%;}#sk-container-id-3 div.sk-parallel-item:last-child::after {align-self: flex-start;width: 50%;}#sk-container-id-3 div.sk-parallel-item:only-child::after {width: 0;}#sk-container-id-3 div.sk-dashed-wrapped {border: 1px dashed gray;margin: 0 0.4em 0.5em 0.4em;box-sizing: border-box;padding-bottom: 0.4em;background-color: white;}#sk-container-id-3 div.sk-label label {font-family: monospace;font-weight: bold;display: inline-block;line-height: 1.2em;}#sk-container-id-3 div.sk-label-container {text-align: center;}#sk-container-id-3 div.sk-container {/* jupyter's `normalize.less` sets `[hidden] { display: none; }` but bootstrap.min.css set `[hidden] { display: none !important; }` so we also need the `!important` here to be able to override the default hidden behavior on the sphinx rendered scikit-learn.org. See: https://github.com/scikit-learn/scikit-learn/issues/21755 */display: inline-block !important;position: relative;}#sk-container-id-3 div.sk-text-repr-fallback {display: none;}</style><div id=\"sk-container-id-3\" class=\"sk-top-container\"><div class=\"sk-text-repr-fallback\"><pre>KMeans(n_clusters=5, n_init=7)</pre><b>In a Jupyter environment, please rerun this cell to show the HTML representation or trust the notebook. <br />On GitHub, the HTML representation is unable to render, please try loading this page with nbviewer.org.</b></div><div class=\"sk-container\" hidden><div class=\"sk-item\"><div class=\"sk-estimator sk-toggleable\"><input class=\"sk-toggleable__control sk-hidden--visually\" id=\"sk-estimator-id-3\" type=\"checkbox\" checked><label for=\"sk-estimator-id-3\" class=\"sk-toggleable__label sk-toggleable__label-arrow\">KMeans</label><div class=\"sk-toggleable__content\"><pre>KMeans(n_clusters=5, n_init=7)</pre></div></div></div></div></div>"
      ],
      "text/plain": [
       "KMeans(n_clusters=5, n_init=7)"
      ]
     },
     "execution_count": 30,
     "metadata": {},
     "output_type": "execute_result"
    }
   ],
   "source": [
    "model = KMeans(n_clusters = 5, n_init = 7)\n",
    "model.fit(data[0])"
   ]
  },
  {
   "cell_type": "code",
   "execution_count": 31,
   "id": "47abb6b5",
   "metadata": {},
   "outputs": [
    {
     "data": {
      "text/plain": [
       "array([[-4.31922315e+00,  8.29261691e+00],\n",
       "       [-9.66299260e+00, -6.61889804e+00],\n",
       "       [ 4.48441388e+00, -6.34449060e+00],\n",
       "       [ 8.21042475e-03,  2.53236837e+00],\n",
       "       [ 3.87630956e+00,  6.68824740e+00]])"
      ]
     },
     "execution_count": 31,
     "metadata": {},
     "output_type": "execute_result"
    }
   ],
   "source": [
    "model.cluster_centers_"
   ]
  },
  {
   "cell_type": "code",
   "execution_count": 32,
   "id": "11d43e8b",
   "metadata": {},
   "outputs": [
    {
     "data": {
      "text/plain": [
       "array([4, 3, 2, 0, 2, 2, 2, 4, 0, 3, 3, 2, 1, 4, 4, 2, 3, 1, 3, 3, 3, 3,\n",
       "       3, 1, 1, 3, 3, 2, 1, 4, 3, 0, 4, 4, 3, 1, 3, 0, 3, 2, 4, 1, 1, 4,\n",
       "       3, 2, 4, 4, 4, 4, 1, 1, 2, 4, 2, 2, 1, 4, 1, 3, 3, 4, 2, 4, 4, 0,\n",
       "       2, 0, 4, 0, 1, 0, 2, 4, 4, 4, 3, 1, 2, 1, 0, 0, 3, 2, 3, 1, 0, 2,\n",
       "       4, 3, 0, 3, 3, 4, 2, 0, 1, 1, 0, 1, 4, 2, 3, 1, 0, 2, 1, 0, 3, 1,\n",
       "       3, 1, 0, 1, 4, 2, 4, 1, 3, 0, 2, 4, 4, 0, 2, 0, 0, 2, 3, 2, 3, 1,\n",
       "       2, 2, 2, 3, 4, 4, 2, 4, 0, 0, 0, 1, 1, 4, 1, 0, 2, 0, 3, 1, 2, 2,\n",
       "       2, 2, 3, 0, 1, 2, 3, 4, 0, 1, 4, 3, 2, 2, 1, 3, 3, 0, 0, 3, 0, 3,\n",
       "       2, 0, 3, 2, 0, 0, 3, 0, 2, 1, 1, 4, 1, 1, 1, 4, 1, 3, 4, 4, 0, 0,\n",
       "       1, 4])"
      ]
     },
     "execution_count": 32,
     "metadata": {},
     "output_type": "execute_result"
    }
   ],
   "source": [
    "model.labels_"
   ]
  },
  {
   "cell_type": "code",
   "execution_count": 33,
   "id": "95317930",
   "metadata": {},
   "outputs": [
    {
     "data": {
      "text/plain": [
       "<matplotlib.collections.PathCollection at 0x1b4e8475dd0>"
      ]
     },
     "execution_count": 33,
     "metadata": {},
     "output_type": "execute_result"
    },
    {
     "data": {
      "image/png": "[encoded data removed]",
      "text/plain": [
       "<Figure size 640x480 with 1 Axes>"
      ]
     },
     "metadata": {},
     "output_type": "display_data"
    }
   ],
   "source": [
    "plt.scatter(data[0][:,0], data[0][:,1], c = model.labels_, cmap = \"rainbow\")"
   ]
  },
  {
   "cell_type": "markdown",
   "id": "69738cc6",
   "metadata": {},
   "source": [
    "# Elbow Method"
   ]
  },
  {
   "cell_type": "code",
   "execution_count": 37,
   "id": "445747be",
   "metadata": {},
   "outputs": [
    {
     "name": "stderr",
     "output_type": "stream",
     "text": [
      "C:\\Users\\Admin\\anaconda3\\Lib\\site-packages\\sklearn\\cluster\\_kmeans.py:1382: UserWarning: KMeans is known to have a memory leak on Windows with MKL, when there are less chunks than available threads. You can avoid it by setting the environment variable OMP_NUM_THREADS=1.\n",
      "  warnings.warn(\n",
      "C:\\Users\\Admin\\anaconda3\\Lib\\site-packages\\sklearn\\cluster\\_kmeans.py:1382: UserWarning: KMeans is known to have a memory leak on Windows with MKL, when there are less chunks than available threads. You can avoid it by setting the environment variable OMP_NUM_THREADS=1.\n",
      "  warnings.warn(\n",
      "C:\\Users\\Admin\\anaconda3\\Lib\\site-packages\\sklearn\\cluster\\_kmeans.py:1382: UserWarning: KMeans is known to have a memory leak on Windows with MKL, when there are less chunks than available threads. You can avoid it by setting the environment variable OMP_NUM_THREADS=1.\n",
      "  warnings.warn(\n",
      "C:\\Users\\Admin\\anaconda3\\Lib\\site-packages\\sklearn\\cluster\\_kmeans.py:1382: UserWarning: KMeans is known to have a memory leak on Windows with MKL, when there are less chunks than available threads. You can avoid it by setting the environment variable OMP_NUM_THREADS=1.\n",
      "  warnings.warn(\n",
      "C:\\Users\\Admin\\anaconda3\\Lib\\site-packages\\sklearn\\cluster\\_kmeans.py:1382: UserWarning: KMeans is known to have a memory leak on Windows with MKL, when there are less chunks than available threads. You can avoid it by setting the environment variable OMP_NUM_THREADS=1.\n",
      "  warnings.warn(\n",
      "C:\\Users\\Admin\\anaconda3\\Lib\\site-packages\\sklearn\\cluster\\_kmeans.py:1382: UserWarning: KMeans is known to have a memory leak on Windows with MKL, when there are less chunks than available threads. You can avoid it by setting the environment variable OMP_NUM_THREADS=1.\n",
      "  warnings.warn(\n",
      "C:\\Users\\Admin\\anaconda3\\Lib\\site-packages\\sklearn\\cluster\\_kmeans.py:1382: UserWarning: KMeans is known to have a memory leak on Windows with MKL, when there are less chunks than available threads. You can avoid it by setting the environment variable OMP_NUM_THREADS=1.\n",
      "  warnings.warn(\n",
      "C:\\Users\\Admin\\anaconda3\\Lib\\site-packages\\sklearn\\cluster\\_kmeans.py:1382: UserWarning: KMeans is known to have a memory leak on Windows with MKL, when there are less chunks than available threads. You can avoid it by setting the environment variable OMP_NUM_THREADS=1.\n",
      "  warnings.warn(\n",
      "C:\\Users\\Admin\\anaconda3\\Lib\\site-packages\\sklearn\\cluster\\_kmeans.py:1382: UserWarning: KMeans is known to have a memory leak on Windows with MKL, when there are less chunks than available threads. You can avoid it by setting the environment variable OMP_NUM_THREADS=1.\n",
      "  warnings.warn(\n",
      "C:\\Users\\Admin\\anaconda3\\Lib\\site-packages\\sklearn\\cluster\\_kmeans.py:1382: UserWarning: KMeans is known to have a memory leak on Windows with MKL, when there are less chunks than available threads. You can avoid it by setting the environment variable OMP_NUM_THREADS=1.\n",
      "  warnings.warn(\n"
     ]
    }
   ],
   "source": [
    "wcss = []\n",
    "for k in range(1, 11):\n",
    "    kmeans = KMeans(n_clusters=k, n_init = 7)\n",
    "    kmeans.fit(data[0])\n",
    "    wcss.append(kmeans.inertia_)"
   ]
  },
  {
   "cell_type": "code",
   "execution_count": 54,
   "id": "a73216d3",
   "metadata": {},
   "outputs": [
    {
     "data": {
      "image/png": "[encoded data removed]",
      "text/plain": [
       "<Figure size 1000x500 with 1 Axes>"
      ]
     },
     "metadata": {},
     "output_type": "display_data"
    }
   ],
   "source": [
    "plt.figure(figsize = (10, 5))\n",
    "plt.plot(range(1, 11), wcss, marker = \"o\", c = 'r')\n",
    "plt.xticks(range(1, 11))\n",
    "plt.title(\"Elbow Method\", pad = 10, color = 'm')\n",
    "plt.xlabel(\"Number of Clusters\")\n",
    "plt.ylabel(\"WCSS\")\n",
    "plt.grid()\n",
    "plt.show()"
   ]
  },
  {
   "cell_type": "code",
   "execution_count": 55,
   "id": "46409161",
   "metadata": {},
   "outputs": [],
   "source": [
    "from sklearn.metrics import silhouette_score"
   ]
  },
  {
   "cell_type": "code",
   "execution_count": 62,
   "id": "7cf5b644",
   "metadata": {},
   "outputs": [
    {
     "name": "stderr",
     "output_type": "stream",
     "text": [
      "C:\\Users\\Admin\\anaconda3\\Lib\\site-packages\\sklearn\\cluster\\_kmeans.py:1382: UserWarning: KMeans is known to have a memory leak on Windows with MKL, when there are less chunks than available threads. You can avoid it by setting the environment variable OMP_NUM_THREADS=1.\n",
      "  warnings.warn(\n",
      "C:\\Users\\Admin\\anaconda3\\Lib\\site-packages\\sklearn\\cluster\\_kmeans.py:1382: UserWarning: KMeans is known to have a memory leak on Windows with MKL, when there are less chunks than available threads. You can avoid it by setting the environment variable OMP_NUM_THREADS=1.\n",
      "  warnings.warn(\n",
      "C:\\Users\\Admin\\anaconda3\\Lib\\site-packages\\sklearn\\cluster\\_kmeans.py:1382: UserWarning: KMeans is known to have a memory leak on Windows with MKL, when there are less chunks than available threads. You can avoid it by setting the environment variable OMP_NUM_THREADS=1.\n",
      "  warnings.warn(\n",
      "C:\\Users\\Admin\\anaconda3\\Lib\\site-packages\\sklearn\\cluster\\_kmeans.py:1382: UserWarning: KMeans is known to have a memory leak on Windows with MKL, when there are less chunks than available threads. You can avoid it by setting the environment variable OMP_NUM_THREADS=1.\n",
      "  warnings.warn(\n",
      "C:\\Users\\Admin\\anaconda3\\Lib\\site-packages\\sklearn\\cluster\\_kmeans.py:1382: UserWarning: KMeans is known to have a memory leak on Windows with MKL, when there are less chunks than available threads. You can avoid it by setting the environment variable OMP_NUM_THREADS=1.\n",
      "  warnings.warn(\n",
      "C:\\Users\\Admin\\anaconda3\\Lib\\site-packages\\sklearn\\cluster\\_kmeans.py:1382: UserWarning: KMeans is known to have a memory leak on Windows with MKL, when there are less chunks than available threads. You can avoid it by setting the environment variable OMP_NUM_THREADS=1.\n",
      "  warnings.warn(\n",
      "C:\\Users\\Admin\\anaconda3\\Lib\\site-packages\\sklearn\\cluster\\_kmeans.py:1382: UserWarning: KMeans is known to have a memory leak on Windows with MKL, when there are less chunks than available threads. You can avoid it by setting the environment variable OMP_NUM_THREADS=1.\n",
      "  warnings.warn(\n",
      "C:\\Users\\Admin\\anaconda3\\Lib\\site-packages\\sklearn\\cluster\\_kmeans.py:1382: UserWarning: KMeans is known to have a memory leak on Windows with MKL, when there are less chunks than available threads. You can avoid it by setting the environment variable OMP_NUM_THREADS=1.\n",
      "  warnings.warn(\n",
      "C:\\Users\\Admin\\anaconda3\\Lib\\site-packages\\sklearn\\cluster\\_kmeans.py:1382: UserWarning: KMeans is known to have a memory leak on Windows with MKL, when there are less chunks than available threads. You can avoid it by setting the environment variable OMP_NUM_THREADS=1.\n",
      "  warnings.warn(\n"
     ]
    }
   ],
   "source": [
    "silhouette_scores = []\n",
    "for k in range(2, 11):\n",
    "    kmeans = KMeans(n_clusters=k, n_init = 7)\n",
    "    kmeans.fit(data[0])\n",
    "    silhouette_scores.append(silhouette_score(data[0], kmeans.labels_))"
   ]
  },
  {
   "cell_type": "code",
   "execution_count": 65,
   "id": "187d89f2",
   "metadata": {},
   "outputs": [
    {
     "data": {
      "image/png": "[encoded data removed]",
      "text/plain": [
       "<Figure size 1000x500 with 1 Axes>"
      ]
     },
     "metadata": {},
     "output_type": "display_data"
    }
   ],
   "source": [
    "plt.figure(figsize = (10, 5))\n",
    "plt.plot(range(2, 11), silhouette_scores, marker = \"o\", c = 'r')\n",
    "plt.xticks(range(2, 11))\n",
    "plt.title(\"Silhouette Score\", pad = 10, color = 'm')\n",
    "plt.xlabel(\"Number of Clusters\")\n",
    "plt.ylabel(\"Silhouette Score\")\n",
    "plt.grid()\n",
    "plt.show()"
   ]
  },
  {
   "cell_type": "code",
   "execution_count": 66,
   "id": "38a8f3ac",
   "metadata": {},
   "outputs": [
    {
     "data": {
      "text/plain": [
       "686.6776502909327"
      ]
     },
     "execution_count": 66,
     "metadata": {},
     "output_type": "execute_result"
    }
   ],
   "source": [
    "kmeans.inertia_\n"
   ]
  },
  {
   "cell_type": "code",
   "execution_count": 79,
   "id": "f4cc3e63",
   "metadata": {},
   "outputs": [
    {
     "name": "stdout",
     "output_type": "stream",
     "text": [
      "Fitting 5 folds for each of 40 candidates, totalling 200 fits\n"
     ]
    },
    {
     "name": "stderr",
     "output_type": "stream",
     "text": [
      "C:\\Users\\Admin\\anaconda3\\Lib\\site-packages\\sklearn\\cluster\\_kmeans.py:1382: UserWarning: KMeans is known to have a memory leak on Windows with MKL, when there are less chunks than available threads. You can avoid it by setting the environment variable OMP_NUM_THREADS=1.\n",
      "  warnings.warn(\n"
     ]
    },
    {
     "name": "stdout",
     "output_type": "stream",
     "text": [
      "[CV 1/5] END init=k-means++, max_iter=300, n_clusters=3, n_init=5, tol=0.0001;, score=-583.323 total time=   0.5s\n"
     ]
    },
    {
     "name": "stderr",
     "output_type": "stream",
     "text": [
      "C:\\Users\\Admin\\anaconda3\\Lib\\site-packages\\sklearn\\cluster\\_kmeans.py:1382: UserWarning: KMeans is known to have a memory leak on Windows with MKL, when there are less chunks than available threads. You can avoid it by setting the environment variable OMP_NUM_THREADS=1.\n",
      "  warnings.warn(\n"
     ]
    },
    {
     "name": "stdout",
     "output_type": "stream",
     "text": [
      "[CV 2/5] END init=k-means++, max_iter=300, n_clusters=3, n_init=5, tol=0.0001;, score=-666.840 total time=   0.5s\n"
     ]
    },
    {
     "name": "stderr",
     "output_type": "stream",
     "text": [
      "C:\\Users\\Admin\\anaconda3\\Lib\\site-packages\\sklearn\\cluster\\_kmeans.py:1382: UserWarning: KMeans is known to have a memory leak on Windows with MKL, when there are less chunks than available threads. You can avoid it by setting the environment variable OMP_NUM_THREADS=1.\n",
      "  warnings.warn(\n"
     ]
    },
    {
     "name": "stdout",
     "output_type": "stream",
     "text": [
      "[CV 3/5] END init=k-means++, max_iter=300, n_clusters=3, n_init=5, tol=0.0001;, score=-675.732 total time=   0.5s\n"
     ]
    },
    {
     "name": "stderr",
     "output_type": "stream",
     "text": [
      "C:\\Users\\Admin\\anaconda3\\Lib\\site-packages\\sklearn\\cluster\\_kmeans.py:1382: UserWarning: KMeans is known to have a memory leak on Windows with MKL, when there are less chunks than available threads. You can avoid it by setting the environment variable OMP_NUM_THREADS=1.\n",
      "  warnings.warn(\n"
     ]
    },
    {
     "name": "stdout",
     "output_type": "stream",
     "text": [
      "[CV 4/5] END init=k-means++, max_iter=300, n_clusters=3, n_init=5, tol=0.0001;, score=-623.377 total time=   0.5s\n"
     ]
    },
    {
     "name": "stderr",
     "output_type": "stream",
     "text": [
      "C:\\Users\\Admin\\anaconda3\\Lib\\site-packages\\sklearn\\cluster\\_kmeans.py:1382: UserWarning: KMeans is known to have a memory leak on Windows with MKL, when there are less chunks than available threads. You can avoid it by setting the environment variable OMP_NUM_THREADS=1.\n",
      "  warnings.warn(\n"
     ]
    },
    {
     "name": "stdout",
     "output_type": "stream",
     "text": [
      "[CV 5/5] END init=k-means++, max_iter=300, n_clusters=3, n_init=5, tol=0.0001;, score=-747.606 total time=   0.5s\n"
     ]
    },
    {
     "name": "stderr",
     "output_type": "stream",
     "text": [
      "C:\\Users\\Admin\\anaconda3\\Lib\\site-packages\\sklearn\\cluster\\_kmeans.py:1382: UserWarning: KMeans is known to have a memory leak on Windows with MKL, when there are less chunks than available threads. You can avoid it by setting the environment variable OMP_NUM_THREADS=1.\n",
      "  warnings.warn(\n"
     ]
    },
    {
     "name": "stdout",
     "output_type": "stream",
     "text": [
      "[CV 1/5] END init=k-means++, max_iter=300, n_clusters=3, n_init=5, tol=0.0002;, score=-583.323 total time=   0.5s\n"
     ]
    },
    {
     "name": "stderr",
     "output_type": "stream",
     "text": [
      "C:\\Users\\Admin\\anaconda3\\Lib\\site-packages\\sklearn\\cluster\\_kmeans.py:1382: UserWarning: KMeans is known to have a memory leak on Windows with MKL, when there are less chunks than available threads. You can avoid it by setting the environment variable OMP_NUM_THREADS=1.\n",
      "  warnings.warn(\n"
     ]
    },
    {
     "name": "stdout",
     "output_type": "stream",
     "text": [
      "[CV 2/5] END init=k-means++, max_iter=300, n_clusters=3, n_init=5, tol=0.0002;, score=-666.840 total time=   0.5s\n"
     ]
    },
    {
     "name": "stderr",
     "output_type": "stream",
     "text": [
      "C:\\Users\\Admin\\anaconda3\\Lib\\site-packages\\sklearn\\cluster\\_kmeans.py:1382: UserWarning: KMeans is known to have a memory leak on Windows with MKL, when there are less chunks than available threads. You can avoid it by setting the environment variable OMP_NUM_THREADS=1.\n",
      "  warnings.warn(\n"
     ]
    },
    {
     "name": "stdout",
     "output_type": "stream",
     "text": [
      "[CV 3/5] END init=k-means++, max_iter=300, n_clusters=3, n_init=5, tol=0.0002;, score=-675.732 total time=   0.5s\n"
     ]
    },
    {
     "name": "stderr",
     "output_type": "stream",
     "text": [
      "C:\\Users\\Admin\\anaconda3\\Lib\\site-packages\\sklearn\\cluster\\_kmeans.py:1382: UserWarning: KMeans is known to have a memory leak on Windows with MKL, when there are less chunks than available threads. You can avoid it by setting the environment variable OMP_NUM_THREADS=1.\n",
      "  warnings.warn(\n"
     ]
    },
    {
     "name": "stdout",
     "output_type": "stream",
     "text": [
      "[CV 4/5] END init=k-means++, max_iter=300, n_clusters=3, n_init=5, tol=0.0002;, score=-623.377 total time=   0.5s\n"
     ]
    },
    {
     "name": "stderr",
     "output_type": "stream",
     "text": [
      "C:\\Users\\Admin\\anaconda3\\Lib\\site-packages\\sklearn\\cluster\\_kmeans.py:1382: UserWarning: KMeans is known to have a memory leak on Windows with MKL, when there are less chunks than available threads. You can avoid it by setting the environment variable OMP_NUM_THREADS=1.\n",
      "  warnings.warn(\n"
     ]
    },
    {
     "name": "stdout",
     "output_type": "stream",
     "text": [
      "[CV 5/5] END init=k-means++, max_iter=300, n_clusters=3, n_init=5, tol=0.0002;, score=-747.606 total time=   0.5s\n"
     ]
    },
    {
     "name": "stderr",
     "output_type": "stream",
     "text": [
      "C:\\Users\\Admin\\anaconda3\\Lib\\site-packages\\sklearn\\cluster\\_kmeans.py:1382: UserWarning: KMeans is known to have a memory leak on Windows with MKL, when there are less chunks than available threads. You can avoid it by setting the environment variable OMP_NUM_THREADS=1.\n",
      "  warnings.warn(\n"
     ]
    },
    {
     "name": "stdout",
     "output_type": "stream",
     "text": [
      "[CV 1/5] END init=k-means++, max_iter=300, n_clusters=3, n_init=6, tol=0.0001;, score=-583.323 total time=   0.6s\n"
     ]
    },
    {
     "name": "stderr",
     "output_type": "stream",
     "text": [
      "C:\\Users\\Admin\\anaconda3\\Lib\\site-packages\\sklearn\\cluster\\_kmeans.py:1382: UserWarning: KMeans is known to have a memory leak on Windows with MKL, when there are less chunks than available threads. You can avoid it by setting the environment variable OMP_NUM_THREADS=1.\n",
      "  warnings.warn(\n"
     ]
    },
    {
     "name": "stdout",
     "output_type": "stream",
     "text": [
      "[CV 2/5] END init=k-means++, max_iter=300, n_clusters=3, n_init=6, tol=0.0001;, score=-666.840 total time=   0.6s\n"
     ]
    },
    {
     "name": "stderr",
     "output_type": "stream",
     "text": [
      "C:\\Users\\Admin\\anaconda3\\Lib\\site-packages\\sklearn\\cluster\\_kmeans.py:1382: UserWarning: KMeans is known to have a memory leak on Windows with MKL, when there are less chunks than available threads. You can avoid it by setting the environment variable OMP_NUM_THREADS=1.\n",
      "  warnings.warn(\n"
     ]
    },
    {
     "name": "stdout",
     "output_type": "stream",
     "text": [
      "[CV 3/5] END init=k-means++, max_iter=300, n_clusters=3, n_init=6, tol=0.0001;, score=-675.732 total time=   0.6s\n"
     ]
    },
    {
     "name": "stderr",
     "output_type": "stream",
     "text": [
      "C:\\Users\\Admin\\anaconda3\\Lib\\site-packages\\sklearn\\cluster\\_kmeans.py:1382: UserWarning: KMeans is known to have a memory leak on Windows with MKL, when there are less chunks than available threads. You can avoid it by setting the environment variable OMP_NUM_THREADS=1.\n",
      "  warnings.warn(\n"
     ]
    },
    {
     "name": "stdout",
     "output_type": "stream",
     "text": [
      "[CV 4/5] END init=k-means++, max_iter=300, n_clusters=3, n_init=6, tol=0.0001;, score=-623.377 total time=   0.6s\n"
     ]
    },
    {
     "name": "stderr",
     "output_type": "stream",
     "text": [
      "C:\\Users\\Admin\\anaconda3\\Lib\\site-packages\\sklearn\\cluster\\_kmeans.py:1382: UserWarning: KMeans is known to have a memory leak on Windows with MKL, when there are less chunks than available threads. You can avoid it by setting the environment variable OMP_NUM_THREADS=1.\n",
      "  warnings.warn(\n"
     ]
    },
    {
     "name": "stdout",
     "output_type": "stream",
     "text": [
      "[CV 5/5] END init=k-means++, max_iter=300, n_clusters=3, n_init=6, tol=0.0001;, score=-749.574 total time=   0.6s\n"
     ]
    },
    {
     "name": "stderr",
     "output_type": "stream",
     "text": [
      "C:\\Users\\Admin\\anaconda3\\Lib\\site-packages\\sklearn\\cluster\\_kmeans.py:1382: UserWarning: KMeans is known to have a memory leak on Windows with MKL, when there are less chunks than available threads. You can avoid it by setting the environment variable OMP_NUM_THREADS=1.\n",
      "  warnings.warn(\n"
     ]
    },
    {
     "name": "stdout",
     "output_type": "stream",
     "text": [
      "[CV 1/5] END init=k-means++, max_iter=300, n_clusters=3, n_init=6, tol=0.0002;, score=-583.323 total time=   0.6s\n"
     ]
    },
    {
     "name": "stderr",
     "output_type": "stream",
     "text": [
      "C:\\Users\\Admin\\anaconda3\\Lib\\site-packages\\sklearn\\cluster\\_kmeans.py:1382: UserWarning: KMeans is known to have a memory leak on Windows with MKL, when there are less chunks than available threads. You can avoid it by setting the environment variable OMP_NUM_THREADS=1.\n",
      "  warnings.warn(\n"
     ]
    },
    {
     "name": "stdout",
     "output_type": "stream",
     "text": [
      "[CV 2/5] END init=k-means++, max_iter=300, n_clusters=3, n_init=6, tol=0.0002;, score=-666.840 total time=   0.6s\n"
     ]
    },
    {
     "name": "stderr",
     "output_type": "stream",
     "text": [
      "C:\\Users\\Admin\\anaconda3\\Lib\\site-packages\\sklearn\\cluster\\_kmeans.py:1382: UserWarning: KMeans is known to have a memory leak on Windows with MKL, when there are less chunks than available threads. You can avoid it by setting the environment variable OMP_NUM_THREADS=1.\n",
      "  warnings.warn(\n"
     ]
    },
    {
     "name": "stdout",
     "output_type": "stream",
     "text": [
      "[CV 3/5] END init=k-means++, max_iter=300, n_clusters=3, n_init=6, tol=0.0002;, score=-675.732 total time=   0.6s\n"
     ]
    },
    {
     "name": "stderr",
     "output_type": "stream",
     "text": [
      "C:\\Users\\Admin\\anaconda3\\Lib\\site-packages\\sklearn\\cluster\\_kmeans.py:1382: UserWarning: KMeans is known to have a memory leak on Windows with MKL, when there are less chunks than available threads. You can avoid it by setting the environment variable OMP_NUM_THREADS=1.\n",
      "  warnings.warn(\n"
     ]
    },
    {
     "name": "stdout",
     "output_type": "stream",
     "text": [
      "[CV 4/5] END init=k-means++, max_iter=300, n_clusters=3, n_init=6, tol=0.0002;, score=-623.377 total time=   0.6s\n"
     ]
    },
    {
     "name": "stderr",
     "output_type": "stream",
     "text": [
      "C:\\Users\\Admin\\anaconda3\\Lib\\site-packages\\sklearn\\cluster\\_kmeans.py:1382: UserWarning: KMeans is known to have a memory leak on Windows with MKL, when there are less chunks than available threads. You can avoid it by setting the environment variable OMP_NUM_THREADS=1.\n",
      "  warnings.warn(\n"
     ]
    },
    {
     "name": "stdout",
     "output_type": "stream",
     "text": [
      "[CV 5/5] END init=k-means++, max_iter=300, n_clusters=3, n_init=6, tol=0.0002;, score=-749.574 total time=   0.6s\n"
     ]
    },
    {
     "name": "stderr",
     "output_type": "stream",
     "text": [
      "C:\\Users\\Admin\\anaconda3\\Lib\\site-packages\\sklearn\\cluster\\_kmeans.py:1382: UserWarning: KMeans is known to have a memory leak on Windows with MKL, when there are less chunks than available threads. You can avoid it by setting the environment variable OMP_NUM_THREADS=1.\n",
      "  warnings.warn(\n"
     ]
    },
    {
     "name": "stdout",
     "output_type": "stream",
     "text": [
      "[CV 1/5] END init=k-means++, max_iter=300, n_clusters=3, n_init=7, tol=0.0001;, score=-583.323 total time=   0.7s\n"
     ]
    },
    {
     "name": "stderr",
     "output_type": "stream",
     "text": [
      "C:\\Users\\Admin\\anaconda3\\Lib\\site-packages\\sklearn\\cluster\\_kmeans.py:1382: UserWarning: KMeans is known to have a memory leak on Windows with MKL, when there are less chunks than available threads. You can avoid it by setting the environment variable OMP_NUM_THREADS=1.\n",
      "  warnings.warn(\n"
     ]
    },
    {
     "name": "stdout",
     "output_type": "stream",
     "text": [
      "[CV 2/5] END init=k-means++, max_iter=300, n_clusters=3, n_init=7, tol=0.0001;, score=-666.840 total time=   0.6s\n"
     ]
    },
    {
     "name": "stderr",
     "output_type": "stream",
     "text": [
      "C:\\Users\\Admin\\anaconda3\\Lib\\site-packages\\sklearn\\cluster\\_kmeans.py:1382: UserWarning: KMeans is known to have a memory leak on Windows with MKL, when there are less chunks than available threads. You can avoid it by setting the environment variable OMP_NUM_THREADS=1.\n",
      "  warnings.warn(\n"
     ]
    },
    {
     "name": "stdout",
     "output_type": "stream",
     "text": [
      "[CV 3/5] END init=k-means++, max_iter=300, n_clusters=3, n_init=7, tol=0.0001;, score=-675.732 total time=   0.7s\n"
     ]
    },
    {
     "name": "stderr",
     "output_type": "stream",
     "text": [
      "C:\\Users\\Admin\\anaconda3\\Lib\\site-packages\\sklearn\\cluster\\_kmeans.py:1382: UserWarning: KMeans is known to have a memory leak on Windows with MKL, when there are less chunks than available threads. You can avoid it by setting the environment variable OMP_NUM_THREADS=1.\n",
      "  warnings.warn(\n"
     ]
    },
    {
     "name": "stdout",
     "output_type": "stream",
     "text": [
      "[CV 4/5] END init=k-means++, max_iter=300, n_clusters=3, n_init=7, tol=0.0001;, score=-623.377 total time=   0.7s\n"
     ]
    },
    {
     "name": "stderr",
     "output_type": "stream",
     "text": [
      "C:\\Users\\Admin\\anaconda3\\Lib\\site-packages\\sklearn\\cluster\\_kmeans.py:1382: UserWarning: KMeans is known to have a memory leak on Windows with MKL, when there are less chunks than available threads. You can avoid it by setting the environment variable OMP_NUM_THREADS=1.\n",
      "  warnings.warn(\n"
     ]
    },
    {
     "name": "stdout",
     "output_type": "stream",
     "text": [
      "[CV 5/5] END init=k-means++, max_iter=300, n_clusters=3, n_init=7, tol=0.0001;, score=-749.574 total time=   0.7s\n"
     ]
    },
    {
     "name": "stderr",
     "output_type": "stream",
     "text": [
      "C:\\Users\\Admin\\anaconda3\\Lib\\site-packages\\sklearn\\cluster\\_kmeans.py:1382: UserWarning: KMeans is known to have a memory leak on Windows with MKL, when there are less chunks than available threads. You can avoid it by setting the environment variable OMP_NUM_THREADS=1.\n",
      "  warnings.warn(\n"
     ]
    },
    {
     "name": "stdout",
     "output_type": "stream",
     "text": [
      "[CV 1/5] END init=k-means++, max_iter=300, n_clusters=3, n_init=7, tol=0.0002;, score=-583.323 total time=   0.6s\n"
     ]
    },
    {
     "name": "stderr",
     "output_type": "stream",
     "text": [
      "C:\\Users\\Admin\\anaconda3\\Lib\\site-packages\\sklearn\\cluster\\_kmeans.py:1382: UserWarning: KMeans is known to have a memory leak on Windows with MKL, when there are less chunks than available threads. You can avoid it by setting the environment variable OMP_NUM_THREADS=1.\n",
      "  warnings.warn(\n"
     ]
    },
    {
     "name": "stdout",
     "output_type": "stream",
     "text": [
      "[CV 2/5] END init=k-means++, max_iter=300, n_clusters=3, n_init=7, tol=0.0002;, score=-666.840 total time=   0.6s\n"
     ]
    },
    {
     "name": "stderr",
     "output_type": "stream",
     "text": [
      "C:\\Users\\Admin\\anaconda3\\Lib\\site-packages\\sklearn\\cluster\\_kmeans.py:1382: UserWarning: KMeans is known to have a memory leak on Windows with MKL, when there are less chunks than available threads. You can avoid it by setting the environment variable OMP_NUM_THREADS=1.\n",
      "  warnings.warn(\n"
     ]
    },
    {
     "name": "stdout",
     "output_type": "stream",
     "text": [
      "[CV 3/5] END init=k-means++, max_iter=300, n_clusters=3, n_init=7, tol=0.0002;, score=-675.732 total time=   0.7s\n"
     ]
    },
    {
     "name": "stderr",
     "output_type": "stream",
     "text": [
      "C:\\Users\\Admin\\anaconda3\\Lib\\site-packages\\sklearn\\cluster\\_kmeans.py:1382: UserWarning: KMeans is known to have a memory leak on Windows with MKL, when there are less chunks than available threads. You can avoid it by setting the environment variable OMP_NUM_THREADS=1.\n",
      "  warnings.warn(\n"
     ]
    },
    {
     "name": "stdout",
     "output_type": "stream",
     "text": [
      "[CV 4/5] END init=k-means++, max_iter=300, n_clusters=3, n_init=7, tol=0.0002;, score=-623.377 total time=   0.7s\n"
     ]
    },
    {
     "name": "stderr",
     "output_type": "stream",
     "text": [
      "C:\\Users\\Admin\\anaconda3\\Lib\\site-packages\\sklearn\\cluster\\_kmeans.py:1382: UserWarning: KMeans is known to have a memory leak on Windows with MKL, when there are less chunks than available threads. You can avoid it by setting the environment variable OMP_NUM_THREADS=1.\n",
      "  warnings.warn(\n"
     ]
    },
    {
     "name": "stdout",
     "output_type": "stream",
     "text": [
      "[CV 5/5] END init=k-means++, max_iter=300, n_clusters=3, n_init=7, tol=0.0002;, score=-749.574 total time=   0.6s\n"
     ]
    },
    {
     "name": "stderr",
     "output_type": "stream",
     "text": [
      "C:\\Users\\Admin\\anaconda3\\Lib\\site-packages\\sklearn\\cluster\\_kmeans.py:1382: UserWarning: KMeans is known to have a memory leak on Windows with MKL, when there are less chunks than available threads. You can avoid it by setting the environment variable OMP_NUM_THREADS=1.\n",
      "  warnings.warn(\n"
     ]
    },
    {
     "name": "stdout",
     "output_type": "stream",
     "text": [
      "[CV 1/5] END init=k-means++, max_iter=300, n_clusters=3, n_init=8, tol=0.0001;, score=-583.323 total time=   0.7s\n"
     ]
    },
    {
     "name": "stderr",
     "output_type": "stream",
     "text": [
      "C:\\Users\\Admin\\anaconda3\\Lib\\site-packages\\sklearn\\cluster\\_kmeans.py:1382: UserWarning: KMeans is known to have a memory leak on Windows with MKL, when there are less chunks than available threads. You can avoid it by setting the environment variable OMP_NUM_THREADS=1.\n",
      "  warnings.warn(\n"
     ]
    },
    {
     "name": "stdout",
     "output_type": "stream",
     "text": [
      "[CV 2/5] END init=k-means++, max_iter=300, n_clusters=3, n_init=8, tol=0.0001;, score=-666.840 total time=   0.7s\n"
     ]
    },
    {
     "name": "stderr",
     "output_type": "stream",
     "text": [
      "C:\\Users\\Admin\\anaconda3\\Lib\\site-packages\\sklearn\\cluster\\_kmeans.py:1382: UserWarning: KMeans is known to have a memory leak on Windows with MKL, when there are less chunks than available threads. You can avoid it by setting the environment variable OMP_NUM_THREADS=1.\n",
      "  warnings.warn(\n"
     ]
    },
    {
     "name": "stdout",
     "output_type": "stream",
     "text": [
      "[CV 3/5] END init=k-means++, max_iter=300, n_clusters=3, n_init=8, tol=0.0001;, score=-675.732 total time=   0.7s\n"
     ]
    },
    {
     "name": "stderr",
     "output_type": "stream",
     "text": [
      "C:\\Users\\Admin\\anaconda3\\Lib\\site-packages\\sklearn\\cluster\\_kmeans.py:1382: UserWarning: KMeans is known to have a memory leak on Windows with MKL, when there are less chunks than available threads. You can avoid it by setting the environment variable OMP_NUM_THREADS=1.\n",
      "  warnings.warn(\n"
     ]
    },
    {
     "name": "stdout",
     "output_type": "stream",
     "text": [
      "[CV 4/5] END init=k-means++, max_iter=300, n_clusters=3, n_init=8, tol=0.0001;, score=-623.377 total time=   0.7s\n"
     ]
    },
    {
     "name": "stderr",
     "output_type": "stream",
     "text": [
      "C:\\Users\\Admin\\anaconda3\\Lib\\site-packages\\sklearn\\cluster\\_kmeans.py:1382: UserWarning: KMeans is known to have a memory leak on Windows with MKL, when there are less chunks than available threads. You can avoid it by setting the environment variable OMP_NUM_THREADS=1.\n",
      "  warnings.warn(\n"
     ]
    },
    {
     "name": "stdout",
     "output_type": "stream",
     "text": [
      "[CV 5/5] END init=k-means++, max_iter=300, n_clusters=3, n_init=8, tol=0.0001;, score=-749.574 total time=   0.7s\n"
     ]
    },
    {
     "name": "stderr",
     "output_type": "stream",
     "text": [
      "C:\\Users\\Admin\\anaconda3\\Lib\\site-packages\\sklearn\\cluster\\_kmeans.py:1382: UserWarning: KMeans is known to have a memory leak on Windows with MKL, when there are less chunks than available threads. You can avoid it by setting the environment variable OMP_NUM_THREADS=1.\n",
      "  warnings.warn(\n"
     ]
    },
    {
     "name": "stdout",
     "output_type": "stream",
     "text": [
      "[CV 1/5] END init=k-means++, max_iter=300, n_clusters=3, n_init=8, tol=0.0002;, score=-583.323 total time=   0.7s\n"
     ]
    },
    {
     "name": "stderr",
     "output_type": "stream",
     "text": [
      "C:\\Users\\Admin\\anaconda3\\Lib\\site-packages\\sklearn\\cluster\\_kmeans.py:1382: UserWarning: KMeans is known to have a memory leak on Windows with MKL, when there are less chunks than available threads. You can avoid it by setting the environment variable OMP_NUM_THREADS=1.\n",
      "  warnings.warn(\n"
     ]
    },
    {
     "name": "stdout",
     "output_type": "stream",
     "text": [
      "[CV 2/5] END init=k-means++, max_iter=300, n_clusters=3, n_init=8, tol=0.0002;, score=-666.840 total time=   0.7s\n"
     ]
    },
    {
     "name": "stderr",
     "output_type": "stream",
     "text": [
      "C:\\Users\\Admin\\anaconda3\\Lib\\site-packages\\sklearn\\cluster\\_kmeans.py:1382: UserWarning: KMeans is known to have a memory leak on Windows with MKL, when there are less chunks than available threads. You can avoid it by setting the environment variable OMP_NUM_THREADS=1.\n",
      "  warnings.warn(\n"
     ]
    },
    {
     "name": "stdout",
     "output_type": "stream",
     "text": [
      "[CV 3/5] END init=k-means++, max_iter=300, n_clusters=3, n_init=8, tol=0.0002;, score=-675.732 total time=   0.7s\n"
     ]
    },
    {
     "name": "stderr",
     "output_type": "stream",
     "text": [
      "C:\\Users\\Admin\\anaconda3\\Lib\\site-packages\\sklearn\\cluster\\_kmeans.py:1382: UserWarning: KMeans is known to have a memory leak on Windows with MKL, when there are less chunks than available threads. You can avoid it by setting the environment variable OMP_NUM_THREADS=1.\n",
      "  warnings.warn(\n"
     ]
    },
    {
     "name": "stdout",
     "output_type": "stream",
     "text": [
      "[CV 4/5] END init=k-means++, max_iter=300, n_clusters=3, n_init=8, tol=0.0002;, score=-623.377 total time=   0.7s\n"
     ]
    },
    {
     "name": "stderr",
     "output_type": "stream",
     "text": [
      "C:\\Users\\Admin\\anaconda3\\Lib\\site-packages\\sklearn\\cluster\\_kmeans.py:1382: UserWarning: KMeans is known to have a memory leak on Windows with MKL, when there are less chunks than available threads. You can avoid it by setting the environment variable OMP_NUM_THREADS=1.\n",
      "  warnings.warn(\n"
     ]
    },
    {
     "name": "stdout",
     "output_type": "stream",
     "text": [
      "[CV 5/5] END init=k-means++, max_iter=300, n_clusters=3, n_init=8, tol=0.0002;, score=-749.574 total time=   0.7s\n"
     ]
    },
    {
     "name": "stderr",
     "output_type": "stream",
     "text": [
      "C:\\Users\\Admin\\anaconda3\\Lib\\site-packages\\sklearn\\cluster\\_kmeans.py:1382: UserWarning: KMeans is known to have a memory leak on Windows with MKL, when there are less chunks than available threads. You can avoid it by setting the environment variable OMP_NUM_THREADS=1.\n",
      "  warnings.warn(\n"
     ]
    },
    {
     "name": "stdout",
     "output_type": "stream",
     "text": [
      "[CV 1/5] END init=k-means++, max_iter=300, n_clusters=3, n_init=9, tol=0.0001;, score=-583.323 total time=   0.8s\n"
     ]
    },
    {
     "name": "stderr",
     "output_type": "stream",
     "text": [
      "C:\\Users\\Admin\\anaconda3\\Lib\\site-packages\\sklearn\\cluster\\_kmeans.py:1382: UserWarning: KMeans is known to have a memory leak on Windows with MKL, when there are less chunks than available threads. You can avoid it by setting the environment variable OMP_NUM_THREADS=1.\n",
      "  warnings.warn(\n"
     ]
    },
    {
     "name": "stdout",
     "output_type": "stream",
     "text": [
      "[CV 2/5] END init=k-means++, max_iter=300, n_clusters=3, n_init=9, tol=0.0001;, score=-666.840 total time=   0.8s\n"
     ]
    },
    {
     "name": "stderr",
     "output_type": "stream",
     "text": [
      "C:\\Users\\Admin\\anaconda3\\Lib\\site-packages\\sklearn\\cluster\\_kmeans.py:1382: UserWarning: KMeans is known to have a memory leak on Windows with MKL, when there are less chunks than available threads. You can avoid it by setting the environment variable OMP_NUM_THREADS=1.\n",
      "  warnings.warn(\n"
     ]
    },
    {
     "name": "stdout",
     "output_type": "stream",
     "text": [
      "[CV 3/5] END init=k-means++, max_iter=300, n_clusters=3, n_init=9, tol=0.0001;, score=-675.732 total time=   0.8s\n"
     ]
    },
    {
     "name": "stderr",
     "output_type": "stream",
     "text": [
      "C:\\Users\\Admin\\anaconda3\\Lib\\site-packages\\sklearn\\cluster\\_kmeans.py:1382: UserWarning: KMeans is known to have a memory leak on Windows with MKL, when there are less chunks than available threads. You can avoid it by setting the environment variable OMP_NUM_THREADS=1.\n",
      "  warnings.warn(\n"
     ]
    },
    {
     "name": "stdout",
     "output_type": "stream",
     "text": [
      "[CV 4/5] END init=k-means++, max_iter=300, n_clusters=3, n_init=9, tol=0.0001;, score=-623.377 total time=   0.8s\n"
     ]
    },
    {
     "name": "stderr",
     "output_type": "stream",
     "text": [
      "C:\\Users\\Admin\\anaconda3\\Lib\\site-packages\\sklearn\\cluster\\_kmeans.py:1382: UserWarning: KMeans is known to have a memory leak on Windows with MKL, when there are less chunks than available threads. You can avoid it by setting the environment variable OMP_NUM_THREADS=1.\n",
      "  warnings.warn(\n"
     ]
    },
    {
     "name": "stdout",
     "output_type": "stream",
     "text": [
      "[CV 5/5] END init=k-means++, max_iter=300, n_clusters=3, n_init=9, tol=0.0001;, score=-749.574 total time=   0.8s\n"
     ]
    },
    {
     "name": "stderr",
     "output_type": "stream",
     "text": [
      "C:\\Users\\Admin\\anaconda3\\Lib\\site-packages\\sklearn\\cluster\\_kmeans.py:1382: UserWarning: KMeans is known to have a memory leak on Windows with MKL, when there are less chunks than available threads. You can avoid it by setting the environment variable OMP_NUM_THREADS=1.\n",
      "  warnings.warn(\n"
     ]
    },
    {
     "name": "stdout",
     "output_type": "stream",
     "text": [
      "[CV 1/5] END init=k-means++, max_iter=300, n_clusters=3, n_init=9, tol=0.0002;, score=-583.323 total time=   0.8s\n"
     ]
    },
    {
     "name": "stderr",
     "output_type": "stream",
     "text": [
      "C:\\Users\\Admin\\anaconda3\\Lib\\site-packages\\sklearn\\cluster\\_kmeans.py:1382: UserWarning: KMeans is known to have a memory leak on Windows with MKL, when there are less chunks than available threads. You can avoid it by setting the environment variable OMP_NUM_THREADS=1.\n",
      "  warnings.warn(\n"
     ]
    },
    {
     "name": "stdout",
     "output_type": "stream",
     "text": [
      "[CV 2/5] END init=k-means++, max_iter=300, n_clusters=3, n_init=9, tol=0.0002;, score=-666.840 total time=   0.8s\n"
     ]
    },
    {
     "name": "stderr",
     "output_type": "stream",
     "text": [
      "C:\\Users\\Admin\\anaconda3\\Lib\\site-packages\\sklearn\\cluster\\_kmeans.py:1382: UserWarning: KMeans is known to have a memory leak on Windows with MKL, when there are less chunks than available threads. You can avoid it by setting the environment variable OMP_NUM_THREADS=1.\n",
      "  warnings.warn(\n"
     ]
    },
    {
     "name": "stdout",
     "output_type": "stream",
     "text": [
      "[CV 3/5] END init=k-means++, max_iter=300, n_clusters=3, n_init=9, tol=0.0002;, score=-675.732 total time=   0.8s\n"
     ]
    },
    {
     "name": "stderr",
     "output_type": "stream",
     "text": [
      "C:\\Users\\Admin\\anaconda3\\Lib\\site-packages\\sklearn\\cluster\\_kmeans.py:1382: UserWarning: KMeans is known to have a memory leak on Windows with MKL, when there are less chunks than available threads. You can avoid it by setting the environment variable OMP_NUM_THREADS=1.\n",
      "  warnings.warn(\n"
     ]
    },
    {
     "name": "stdout",
     "output_type": "stream",
     "text": [
      "[CV 4/5] END init=k-means++, max_iter=300, n_clusters=3, n_init=9, tol=0.0002;, score=-623.377 total time=   0.8s\n"
     ]
    },
    {
     "name": "stderr",
     "output_type": "stream",
     "text": [
      "C:\\Users\\Admin\\anaconda3\\Lib\\site-packages\\sklearn\\cluster\\_kmeans.py:1382: UserWarning: KMeans is known to have a memory leak on Windows with MKL, when there are less chunks than available threads. You can avoid it by setting the environment variable OMP_NUM_THREADS=1.\n",
      "  warnings.warn(\n"
     ]
    },
    {
     "name": "stdout",
     "output_type": "stream",
     "text": [
      "[CV 5/5] END init=k-means++, max_iter=300, n_clusters=3, n_init=9, tol=0.0002;, score=-749.574 total time=   0.8s\n"
     ]
    },
    {
     "name": "stderr",
     "output_type": "stream",
     "text": [
      "C:\\Users\\Admin\\anaconda3\\Lib\\site-packages\\sklearn\\cluster\\_kmeans.py:1382: UserWarning: KMeans is known to have a memory leak on Windows with MKL, when there are less chunks than available threads. You can avoid it by setting the environment variable OMP_NUM_THREADS=1.\n",
      "  warnings.warn(\n"
     ]
    },
    {
     "name": "stdout",
     "output_type": "stream",
     "text": [
      "[CV 1/5] END init=k-means++, max_iter=400, n_clusters=3, n_init=5, tol=0.0001;, score=-583.323 total time=   0.5s\n"
     ]
    },
    {
     "name": "stderr",
     "output_type": "stream",
     "text": [
      "C:\\Users\\Admin\\anaconda3\\Lib\\site-packages\\sklearn\\cluster\\_kmeans.py:1382: UserWarning: KMeans is known to have a memory leak on Windows with MKL, when there are less chunks than available threads. You can avoid it by setting the environment variable OMP_NUM_THREADS=1.\n",
      "  warnings.warn(\n"
     ]
    },
    {
     "name": "stdout",
     "output_type": "stream",
     "text": [
      "[CV 2/5] END init=k-means++, max_iter=400, n_clusters=3, n_init=5, tol=0.0001;, score=-666.840 total time=   0.5s\n"
     ]
    },
    {
     "name": "stderr",
     "output_type": "stream",
     "text": [
      "C:\\Users\\Admin\\anaconda3\\Lib\\site-packages\\sklearn\\cluster\\_kmeans.py:1382: UserWarning: KMeans is known to have a memory leak on Windows with MKL, when there are less chunks than available threads. You can avoid it by setting the environment variable OMP_NUM_THREADS=1.\n",
      "  warnings.warn(\n"
     ]
    },
    {
     "name": "stdout",
     "output_type": "stream",
     "text": [
      "[CV 3/5] END init=k-means++, max_iter=400, n_clusters=3, n_init=5, tol=0.0001;, score=-675.732 total time=   0.5s\n"
     ]
    },
    {
     "name": "stderr",
     "output_type": "stream",
     "text": [
      "C:\\Users\\Admin\\anaconda3\\Lib\\site-packages\\sklearn\\cluster\\_kmeans.py:1382: UserWarning: KMeans is known to have a memory leak on Windows with MKL, when there are less chunks than available threads. You can avoid it by setting the environment variable OMP_NUM_THREADS=1.\n",
      "  warnings.warn(\n"
     ]
    },
    {
     "name": "stdout",
     "output_type": "stream",
     "text": [
      "[CV 4/5] END init=k-means++, max_iter=400, n_clusters=3, n_init=5, tol=0.0001;, score=-623.377 total time=   0.5s\n"
     ]
    },
    {
     "name": "stderr",
     "output_type": "stream",
     "text": [
      "C:\\Users\\Admin\\anaconda3\\Lib\\site-packages\\sklearn\\cluster\\_kmeans.py:1382: UserWarning: KMeans is known to have a memory leak on Windows with MKL, when there are less chunks than available threads. You can avoid it by setting the environment variable OMP_NUM_THREADS=1.\n",
      "  warnings.warn(\n"
     ]
    },
    {
     "name": "stdout",
     "output_type": "stream",
     "text": [
      "[CV 5/5] END init=k-means++, max_iter=400, n_clusters=3, n_init=5, tol=0.0001;, score=-749.574 total time=   0.5s\n"
     ]
    },
    {
     "name": "stderr",
     "output_type": "stream",
     "text": [
      "C:\\Users\\Admin\\anaconda3\\Lib\\site-packages\\sklearn\\cluster\\_kmeans.py:1382: UserWarning: KMeans is known to have a memory leak on Windows with MKL, when there are less chunks than available threads. You can avoid it by setting the environment variable OMP_NUM_THREADS=1.\n",
      "  warnings.warn(\n"
     ]
    },
    {
     "name": "stdout",
     "output_type": "stream",
     "text": [
      "[CV 1/5] END init=k-means++, max_iter=400, n_clusters=3, n_init=5, tol=0.0002;, score=-583.323 total time=   0.5s\n"
     ]
    },
    {
     "name": "stderr",
     "output_type": "stream",
     "text": [
      "C:\\Users\\Admin\\anaconda3\\Lib\\site-packages\\sklearn\\cluster\\_kmeans.py:1382: UserWarning: KMeans is known to have a memory leak on Windows with MKL, when there are less chunks than available threads. You can avoid it by setting the environment variable OMP_NUM_THREADS=1.\n",
      "  warnings.warn(\n"
     ]
    },
    {
     "name": "stdout",
     "output_type": "stream",
     "text": [
      "[CV 2/5] END init=k-means++, max_iter=400, n_clusters=3, n_init=5, tol=0.0002;, score=-666.840 total time=   0.5s\n"
     ]
    },
    {
     "name": "stderr",
     "output_type": "stream",
     "text": [
      "C:\\Users\\Admin\\anaconda3\\Lib\\site-packages\\sklearn\\cluster\\_kmeans.py:1382: UserWarning: KMeans is known to have a memory leak on Windows with MKL, when there are less chunks than available threads. You can avoid it by setting the environment variable OMP_NUM_THREADS=1.\n",
      "  warnings.warn(\n"
     ]
    },
    {
     "name": "stdout",
     "output_type": "stream",
     "text": [
      "[CV 3/5] END init=k-means++, max_iter=400, n_clusters=3, n_init=5, tol=0.0002;, score=-675.732 total time=   0.5s\n"
     ]
    },
    {
     "name": "stderr",
     "output_type": "stream",
     "text": [
      "C:\\Users\\Admin\\anaconda3\\Lib\\site-packages\\sklearn\\cluster\\_kmeans.py:1382: UserWarning: KMeans is known to have a memory leak on Windows with MKL, when there are less chunks than available threads. You can avoid it by setting the environment variable OMP_NUM_THREADS=1.\n",
      "  warnings.warn(\n"
     ]
    },
    {
     "name": "stdout",
     "output_type": "stream",
     "text": [
      "[CV 4/5] END init=k-means++, max_iter=400, n_clusters=3, n_init=5, tol=0.0002;, score=-623.377 total time=   0.5s\n"
     ]
    },
    {
     "name": "stderr",
     "output_type": "stream",
     "text": [
      "C:\\Users\\Admin\\anaconda3\\Lib\\site-packages\\sklearn\\cluster\\_kmeans.py:1382: UserWarning: KMeans is known to have a memory leak on Windows with MKL, when there are less chunks than available threads. You can avoid it by setting the environment variable OMP_NUM_THREADS=1.\n",
      "  warnings.warn(\n"
     ]
    },
    {
     "name": "stdout",
     "output_type": "stream",
     "text": [
      "[CV 5/5] END init=k-means++, max_iter=400, n_clusters=3, n_init=5, tol=0.0002;, score=-749.574 total time=   0.5s\n"
     ]
    },
    {
     "name": "stderr",
     "output_type": "stream",
     "text": [
      "C:\\Users\\Admin\\anaconda3\\Lib\\site-packages\\sklearn\\cluster\\_kmeans.py:1382: UserWarning: KMeans is known to have a memory leak on Windows with MKL, when there are less chunks than available threads. You can avoid it by setting the environment variable OMP_NUM_THREADS=1.\n",
      "  warnings.warn(\n"
     ]
    },
    {
     "name": "stdout",
     "output_type": "stream",
     "text": [
      "[CV 1/5] END init=k-means++, max_iter=400, n_clusters=3, n_init=6, tol=0.0001;, score=-583.323 total time=   0.6s\n"
     ]
    },
    {
     "name": "stderr",
     "output_type": "stream",
     "text": [
      "C:\\Users\\Admin\\anaconda3\\Lib\\site-packages\\sklearn\\cluster\\_kmeans.py:1382: UserWarning: KMeans is known to have a memory leak on Windows with MKL, when there are less chunks than available threads. You can avoid it by setting the environment variable OMP_NUM_THREADS=1.\n",
      "  warnings.warn(\n"
     ]
    },
    {
     "name": "stdout",
     "output_type": "stream",
     "text": [
      "[CV 2/5] END init=k-means++, max_iter=400, n_clusters=3, n_init=6, tol=0.0001;, score=-666.840 total time=   0.6s\n"
     ]
    },
    {
     "name": "stderr",
     "output_type": "stream",
     "text": [
      "C:\\Users\\Admin\\anaconda3\\Lib\\site-packages\\sklearn\\cluster\\_kmeans.py:1382: UserWarning: KMeans is known to have a memory leak on Windows with MKL, when there are less chunks than available threads. You can avoid it by setting the environment variable OMP_NUM_THREADS=1.\n",
      "  warnings.warn(\n"
     ]
    },
    {
     "name": "stdout",
     "output_type": "stream",
     "text": [
      "[CV 3/5] END init=k-means++, max_iter=400, n_clusters=3, n_init=6, tol=0.0001;, score=-675.732 total time=   0.6s\n"
     ]
    },
    {
     "name": "stderr",
     "output_type": "stream",
     "text": [
      "C:\\Users\\Admin\\anaconda3\\Lib\\site-packages\\sklearn\\cluster\\_kmeans.py:1382: UserWarning: KMeans is known to have a memory leak on Windows with MKL, when there are less chunks than available threads. You can avoid it by setting the environment variable OMP_NUM_THREADS=1.\n",
      "  warnings.warn(\n"
     ]
    },
    {
     "name": "stdout",
     "output_type": "stream",
     "text": [
      "[CV 4/5] END init=k-means++, max_iter=400, n_clusters=3, n_init=6, tol=0.0001;, score=-623.377 total time=   0.6s\n"
     ]
    },
    {
     "name": "stderr",
     "output_type": "stream",
     "text": [
      "C:\\Users\\Admin\\anaconda3\\Lib\\site-packages\\sklearn\\cluster\\_kmeans.py:1382: UserWarning: KMeans is known to have a memory leak on Windows with MKL, when there are less chunks than available threads. You can avoid it by setting the environment variable OMP_NUM_THREADS=1.\n",
      "  warnings.warn(\n"
     ]
    },
    {
     "name": "stdout",
     "output_type": "stream",
     "text": [
      "[CV 5/5] END init=k-means++, max_iter=400, n_clusters=3, n_init=6, tol=0.0001;, score=-749.574 total time=   0.6s\n"
     ]
    },
    {
     "name": "stderr",
     "output_type": "stream",
     "text": [
      "C:\\Users\\Admin\\anaconda3\\Lib\\site-packages\\sklearn\\cluster\\_kmeans.py:1382: UserWarning: KMeans is known to have a memory leak on Windows with MKL, when there are less chunks than available threads. You can avoid it by setting the environment variable OMP_NUM_THREADS=1.\n",
      "  warnings.warn(\n"
     ]
    },
    {
     "name": "stdout",
     "output_type": "stream",
     "text": [
      "[CV 1/5] END init=k-means++, max_iter=400, n_clusters=3, n_init=6, tol=0.0002;, score=-583.323 total time=   0.6s\n"
     ]
    },
    {
     "name": "stderr",
     "output_type": "stream",
     "text": [
      "C:\\Users\\Admin\\anaconda3\\Lib\\site-packages\\sklearn\\cluster\\_kmeans.py:1382: UserWarning: KMeans is known to have a memory leak on Windows with MKL, when there are less chunks than available threads. You can avoid it by setting the environment variable OMP_NUM_THREADS=1.\n",
      "  warnings.warn(\n"
     ]
    },
    {
     "name": "stdout",
     "output_type": "stream",
     "text": [
      "[CV 2/5] END init=k-means++, max_iter=400, n_clusters=3, n_init=6, tol=0.0002;, score=-666.840 total time=   0.6s\n"
     ]
    },
    {
     "name": "stderr",
     "output_type": "stream",
     "text": [
      "C:\\Users\\Admin\\anaconda3\\Lib\\site-packages\\sklearn\\cluster\\_kmeans.py:1382: UserWarning: KMeans is known to have a memory leak on Windows with MKL, when there are less chunks than available threads. You can avoid it by setting the environment variable OMP_NUM_THREADS=1.\n",
      "  warnings.warn(\n"
     ]
    },
    {
     "name": "stdout",
     "output_type": "stream",
     "text": [
      "[CV 3/5] END init=k-means++, max_iter=400, n_clusters=3, n_init=6, tol=0.0002;, score=-675.732 total time=   0.6s\n"
     ]
    },
    {
     "name": "stderr",
     "output_type": "stream",
     "text": [
      "C:\\Users\\Admin\\anaconda3\\Lib\\site-packages\\sklearn\\cluster\\_kmeans.py:1382: UserWarning: KMeans is known to have a memory leak on Windows with MKL, when there are less chunks than available threads. You can avoid it by setting the environment variable OMP_NUM_THREADS=1.\n",
      "  warnings.warn(\n"
     ]
    },
    {
     "name": "stdout",
     "output_type": "stream",
     "text": [
      "[CV 4/5] END init=k-means++, max_iter=400, n_clusters=3, n_init=6, tol=0.0002;, score=-623.377 total time=   0.6s\n"
     ]
    },
    {
     "name": "stderr",
     "output_type": "stream",
     "text": [
      "C:\\Users\\Admin\\anaconda3\\Lib\\site-packages\\sklearn\\cluster\\_kmeans.py:1382: UserWarning: KMeans is known to have a memory leak on Windows with MKL, when there are less chunks than available threads. You can avoid it by setting the environment variable OMP_NUM_THREADS=1.\n",
      "  warnings.warn(\n"
     ]
    },
    {
     "name": "stdout",
     "output_type": "stream",
     "text": [
      "[CV 5/5] END init=k-means++, max_iter=400, n_clusters=3, n_init=6, tol=0.0002;, score=-749.574 total time=   0.6s\n"
     ]
    },
    {
     "name": "stderr",
     "output_type": "stream",
     "text": [
      "C:\\Users\\Admin\\anaconda3\\Lib\\site-packages\\sklearn\\cluster\\_kmeans.py:1382: UserWarning: KMeans is known to have a memory leak on Windows with MKL, when there are less chunks than available threads. You can avoid it by setting the environment variable OMP_NUM_THREADS=1.\n",
      "  warnings.warn(\n"
     ]
    },
    {
     "name": "stdout",
     "output_type": "stream",
     "text": [
      "[CV 1/5] END init=k-means++, max_iter=400, n_clusters=3, n_init=7, tol=0.0001;, score=-583.323 total time=   0.6s\n"
     ]
    },
    {
     "name": "stderr",
     "output_type": "stream",
     "text": [
      "C:\\Users\\Admin\\anaconda3\\Lib\\site-packages\\sklearn\\cluster\\_kmeans.py:1382: UserWarning: KMeans is known to have a memory leak on Windows with MKL, when there are less chunks than available threads. You can avoid it by setting the environment variable OMP_NUM_THREADS=1.\n",
      "  warnings.warn(\n"
     ]
    },
    {
     "name": "stdout",
     "output_type": "stream",
     "text": [
      "[CV 2/5] END init=k-means++, max_iter=400, n_clusters=3, n_init=7, tol=0.0001;, score=-666.840 total time=   0.7s\n"
     ]
    },
    {
     "name": "stderr",
     "output_type": "stream",
     "text": [
      "C:\\Users\\Admin\\anaconda3\\Lib\\site-packages\\sklearn\\cluster\\_kmeans.py:1382: UserWarning: KMeans is known to have a memory leak on Windows with MKL, when there are less chunks than available threads. You can avoid it by setting the environment variable OMP_NUM_THREADS=1.\n",
      "  warnings.warn(\n"
     ]
    },
    {
     "name": "stdout",
     "output_type": "stream",
     "text": [
      "[CV 3/5] END init=k-means++, max_iter=400, n_clusters=3, n_init=7, tol=0.0001;, score=-675.732 total time=   0.7s\n"
     ]
    },
    {
     "name": "stderr",
     "output_type": "stream",
     "text": [
      "C:\\Users\\Admin\\anaconda3\\Lib\\site-packages\\sklearn\\cluster\\_kmeans.py:1382: UserWarning: KMeans is known to have a memory leak on Windows with MKL, when there are less chunks than available threads. You can avoid it by setting the environment variable OMP_NUM_THREADS=1.\n",
      "  warnings.warn(\n"
     ]
    },
    {
     "name": "stdout",
     "output_type": "stream",
     "text": [
      "[CV 4/5] END init=k-means++, max_iter=400, n_clusters=3, n_init=7, tol=0.0001;, score=-623.377 total time=   0.6s\n"
     ]
    },
    {
     "name": "stderr",
     "output_type": "stream",
     "text": [
      "C:\\Users\\Admin\\anaconda3\\Lib\\site-packages\\sklearn\\cluster\\_kmeans.py:1382: UserWarning: KMeans is known to have a memory leak on Windows with MKL, when there are less chunks than available threads. You can avoid it by setting the environment variable OMP_NUM_THREADS=1.\n",
      "  warnings.warn(\n"
     ]
    },
    {
     "name": "stdout",
     "output_type": "stream",
     "text": [
      "[CV 5/5] END init=k-means++, max_iter=400, n_clusters=3, n_init=7, tol=0.0001;, score=-749.574 total time=   0.7s\n"
     ]
    },
    {
     "name": "stderr",
     "output_type": "stream",
     "text": [
      "C:\\Users\\Admin\\anaconda3\\Lib\\site-packages\\sklearn\\cluster\\_kmeans.py:1382: UserWarning: KMeans is known to have a memory leak on Windows with MKL, when there are less chunks than available threads. You can avoid it by setting the environment variable OMP_NUM_THREADS=1.\n",
      "  warnings.warn(\n"
     ]
    },
    {
     "name": "stdout",
     "output_type": "stream",
     "text": [
      "[CV 1/5] END init=k-means++, max_iter=400, n_clusters=3, n_init=7, tol=0.0002;, score=-583.323 total time=   0.6s\n"
     ]
    },
    {
     "name": "stderr",
     "output_type": "stream",
     "text": [
      "C:\\Users\\Admin\\anaconda3\\Lib\\site-packages\\sklearn\\cluster\\_kmeans.py:1382: UserWarning: KMeans is known to have a memory leak on Windows with MKL, when there are less chunks than available threads. You can avoid it by setting the environment variable OMP_NUM_THREADS=1.\n",
      "  warnings.warn(\n"
     ]
    },
    {
     "name": "stdout",
     "output_type": "stream",
     "text": [
      "[CV 2/5] END init=k-means++, max_iter=400, n_clusters=3, n_init=7, tol=0.0002;, score=-666.840 total time=   0.6s\n"
     ]
    },
    {
     "name": "stderr",
     "output_type": "stream",
     "text": [
      "C:\\Users\\Admin\\anaconda3\\Lib\\site-packages\\sklearn\\cluster\\_kmeans.py:1382: UserWarning: KMeans is known to have a memory leak on Windows with MKL, when there are less chunks than available threads. You can avoid it by setting the environment variable OMP_NUM_THREADS=1.\n",
      "  warnings.warn(\n"
     ]
    },
    {
     "name": "stdout",
     "output_type": "stream",
     "text": [
      "[CV 3/5] END init=k-means++, max_iter=400, n_clusters=3, n_init=7, tol=0.0002;, score=-675.732 total time=   0.7s\n"
     ]
    },
    {
     "name": "stderr",
     "output_type": "stream",
     "text": [
      "C:\\Users\\Admin\\anaconda3\\Lib\\site-packages\\sklearn\\cluster\\_kmeans.py:1382: UserWarning: KMeans is known to have a memory leak on Windows with MKL, when there are less chunks than available threads. You can avoid it by setting the environment variable OMP_NUM_THREADS=1.\n",
      "  warnings.warn(\n"
     ]
    },
    {
     "name": "stdout",
     "output_type": "stream",
     "text": [
      "[CV 4/5] END init=k-means++, max_iter=400, n_clusters=3, n_init=7, tol=0.0002;, score=-623.377 total time=   0.6s\n"
     ]
    },
    {
     "name": "stderr",
     "output_type": "stream",
     "text": [
      "C:\\Users\\Admin\\anaconda3\\Lib\\site-packages\\sklearn\\cluster\\_kmeans.py:1382: UserWarning: KMeans is known to have a memory leak on Windows with MKL, when there are less chunks than available threads. You can avoid it by setting the environment variable OMP_NUM_THREADS=1.\n",
      "  warnings.warn(\n"
     ]
    },
    {
     "name": "stdout",
     "output_type": "stream",
     "text": [
      "[CV 5/5] END init=k-means++, max_iter=400, n_clusters=3, n_init=7, tol=0.0002;, score=-749.574 total time=   0.6s\n"
     ]
    },
    {
     "name": "stderr",
     "output_type": "stream",
     "text": [
      "C:\\Users\\Admin\\anaconda3\\Lib\\site-packages\\sklearn\\cluster\\_kmeans.py:1382: UserWarning: KMeans is known to have a memory leak on Windows with MKL, when there are less chunks than available threads. You can avoid it by setting the environment variable OMP_NUM_THREADS=1.\n",
      "  warnings.warn(\n"
     ]
    },
    {
     "name": "stdout",
     "output_type": "stream",
     "text": [
      "[CV 1/5] END init=k-means++, max_iter=400, n_clusters=3, n_init=8, tol=0.0001;, score=-583.323 total time=   0.7s\n"
     ]
    },
    {
     "name": "stderr",
     "output_type": "stream",
     "text": [
      "C:\\Users\\Admin\\anaconda3\\Lib\\site-packages\\sklearn\\cluster\\_kmeans.py:1382: UserWarning: KMeans is known to have a memory leak on Windows with MKL, when there are less chunks than available threads. You can avoid it by setting the environment variable OMP_NUM_THREADS=1.\n",
      "  warnings.warn(\n"
     ]
    },
    {
     "name": "stdout",
     "output_type": "stream",
     "text": [
      "[CV 2/5] END init=k-means++, max_iter=400, n_clusters=3, n_init=8, tol=0.0001;, score=-666.840 total time=   0.7s\n"
     ]
    },
    {
     "name": "stderr",
     "output_type": "stream",
     "text": [
      "C:\\Users\\Admin\\anaconda3\\Lib\\site-packages\\sklearn\\cluster\\_kmeans.py:1382: UserWarning: KMeans is known to have a memory leak on Windows with MKL, when there are less chunks than available threads. You can avoid it by setting the environment variable OMP_NUM_THREADS=1.\n",
      "  warnings.warn(\n"
     ]
    },
    {
     "name": "stdout",
     "output_type": "stream",
     "text": [
      "[CV 3/5] END init=k-means++, max_iter=400, n_clusters=3, n_init=8, tol=0.0001;, score=-675.732 total time=   0.7s\n"
     ]
    },
    {
     "name": "stderr",
     "output_type": "stream",
     "text": [
      "C:\\Users\\Admin\\anaconda3\\Lib\\site-packages\\sklearn\\cluster\\_kmeans.py:1382: UserWarning: KMeans is known to have a memory leak on Windows with MKL, when there are less chunks than available threads. You can avoid it by setting the environment variable OMP_NUM_THREADS=1.\n",
      "  warnings.warn(\n"
     ]
    },
    {
     "name": "stdout",
     "output_type": "stream",
     "text": [
      "[CV 4/5] END init=k-means++, max_iter=400, n_clusters=3, n_init=8, tol=0.0001;, score=-623.377 total time=   0.7s\n"
     ]
    },
    {
     "name": "stderr",
     "output_type": "stream",
     "text": [
      "C:\\Users\\Admin\\anaconda3\\Lib\\site-packages\\sklearn\\cluster\\_kmeans.py:1382: UserWarning: KMeans is known to have a memory leak on Windows with MKL, when there are less chunks than available threads. You can avoid it by setting the environment variable OMP_NUM_THREADS=1.\n",
      "  warnings.warn(\n"
     ]
    },
    {
     "name": "stdout",
     "output_type": "stream",
     "text": [
      "[CV 5/5] END init=k-means++, max_iter=400, n_clusters=3, n_init=8, tol=0.0001;, score=-749.574 total time=   0.7s\n"
     ]
    },
    {
     "name": "stderr",
     "output_type": "stream",
     "text": [
      "C:\\Users\\Admin\\anaconda3\\Lib\\site-packages\\sklearn\\cluster\\_kmeans.py:1382: UserWarning: KMeans is known to have a memory leak on Windows with MKL, when there are less chunks than available threads. You can avoid it by setting the environment variable OMP_NUM_THREADS=1.\n",
      "  warnings.warn(\n"
     ]
    },
    {
     "name": "stdout",
     "output_type": "stream",
     "text": [
      "[CV 1/5] END init=k-means++, max_iter=400, n_clusters=3, n_init=8, tol=0.0002;, score=-583.323 total time=   0.7s\n"
     ]
    },
    {
     "name": "stderr",
     "output_type": "stream",
     "text": [
      "C:\\Users\\Admin\\anaconda3\\Lib\\site-packages\\sklearn\\cluster\\_kmeans.py:1382: UserWarning: KMeans is known to have a memory leak on Windows with MKL, when there are less chunks than available threads. You can avoid it by setting the environment variable OMP_NUM_THREADS=1.\n",
      "  warnings.warn(\n"
     ]
    },
    {
     "name": "stdout",
     "output_type": "stream",
     "text": [
      "[CV 2/5] END init=k-means++, max_iter=400, n_clusters=3, n_init=8, tol=0.0002;, score=-666.840 total time=   0.8s\n"
     ]
    },
    {
     "name": "stderr",
     "output_type": "stream",
     "text": [
      "C:\\Users\\Admin\\anaconda3\\Lib\\site-packages\\sklearn\\cluster\\_kmeans.py:1382: UserWarning: KMeans is known to have a memory leak on Windows with MKL, when there are less chunks than available threads. You can avoid it by setting the environment variable OMP_NUM_THREADS=1.\n",
      "  warnings.warn(\n"
     ]
    },
    {
     "name": "stdout",
     "output_type": "stream",
     "text": [
      "[CV 3/5] END init=k-means++, max_iter=400, n_clusters=3, n_init=8, tol=0.0002;, score=-675.732 total time=   0.7s\n"
     ]
    },
    {
     "name": "stderr",
     "output_type": "stream",
     "text": [
      "C:\\Users\\Admin\\anaconda3\\Lib\\site-packages\\sklearn\\cluster\\_kmeans.py:1382: UserWarning: KMeans is known to have a memory leak on Windows with MKL, when there are less chunks than available threads. You can avoid it by setting the environment variable OMP_NUM_THREADS=1.\n",
      "  warnings.warn(\n"
     ]
    },
    {
     "name": "stdout",
     "output_type": "stream",
     "text": [
      "[CV 4/5] END init=k-means++, max_iter=400, n_clusters=3, n_init=8, tol=0.0002;, score=-623.377 total time=   0.7s\n"
     ]
    },
    {
     "name": "stderr",
     "output_type": "stream",
     "text": [
      "C:\\Users\\Admin\\anaconda3\\Lib\\site-packages\\sklearn\\cluster\\_kmeans.py:1382: UserWarning: KMeans is known to have a memory leak on Windows with MKL, when there are less chunks than available threads. You can avoid it by setting the environment variable OMP_NUM_THREADS=1.\n",
      "  warnings.warn(\n"
     ]
    },
    {
     "name": "stdout",
     "output_type": "stream",
     "text": [
      "[CV 5/5] END init=k-means++, max_iter=400, n_clusters=3, n_init=8, tol=0.0002;, score=-749.574 total time=   0.7s\n"
     ]
    },
    {
     "name": "stderr",
     "output_type": "stream",
     "text": [
      "C:\\Users\\Admin\\anaconda3\\Lib\\site-packages\\sklearn\\cluster\\_kmeans.py:1382: UserWarning: KMeans is known to have a memory leak on Windows with MKL, when there are less chunks than available threads. You can avoid it by setting the environment variable OMP_NUM_THREADS=1.\n",
      "  warnings.warn(\n"
     ]
    },
    {
     "name": "stdout",
     "output_type": "stream",
     "text": [
      "[CV 1/5] END init=k-means++, max_iter=400, n_clusters=3, n_init=9, tol=0.0001;, score=-583.323 total time=   0.8s\n"
     ]
    },
    {
     "name": "stderr",
     "output_type": "stream",
     "text": [
      "C:\\Users\\Admin\\anaconda3\\Lib\\site-packages\\sklearn\\cluster\\_kmeans.py:1382: UserWarning: KMeans is known to have a memory leak on Windows with MKL, when there are less chunks than available threads. You can avoid it by setting the environment variable OMP_NUM_THREADS=1.\n",
      "  warnings.warn(\n"
     ]
    },
    {
     "name": "stdout",
     "output_type": "stream",
     "text": [
      "[CV 2/5] END init=k-means++, max_iter=400, n_clusters=3, n_init=9, tol=0.0001;, score=-666.840 total time=   0.8s\n"
     ]
    },
    {
     "name": "stderr",
     "output_type": "stream",
     "text": [
      "C:\\Users\\Admin\\anaconda3\\Lib\\site-packages\\sklearn\\cluster\\_kmeans.py:1382: UserWarning: KMeans is known to have a memory leak on Windows with MKL, when there are less chunks than available threads. You can avoid it by setting the environment variable OMP_NUM_THREADS=1.\n",
      "  warnings.warn(\n"
     ]
    },
    {
     "name": "stdout",
     "output_type": "stream",
     "text": [
      "[CV 3/5] END init=k-means++, max_iter=400, n_clusters=3, n_init=9, tol=0.0001;, score=-675.732 total time=   0.8s\n"
     ]
    },
    {
     "name": "stderr",
     "output_type": "stream",
     "text": [
      "C:\\Users\\Admin\\anaconda3\\Lib\\site-packages\\sklearn\\cluster\\_kmeans.py:1382: UserWarning: KMeans is known to have a memory leak on Windows with MKL, when there are less chunks than available threads. You can avoid it by setting the environment variable OMP_NUM_THREADS=1.\n",
      "  warnings.warn(\n"
     ]
    },
    {
     "name": "stdout",
     "output_type": "stream",
     "text": [
      "[CV 4/5] END init=k-means++, max_iter=400, n_clusters=3, n_init=9, tol=0.0001;, score=-623.377 total time=   0.8s\n"
     ]
    },
    {
     "name": "stderr",
     "output_type": "stream",
     "text": [
      "C:\\Users\\Admin\\anaconda3\\Lib\\site-packages\\sklearn\\cluster\\_kmeans.py:1382: UserWarning: KMeans is known to have a memory leak on Windows with MKL, when there are less chunks than available threads. You can avoid it by setting the environment variable OMP_NUM_THREADS=1.\n",
      "  warnings.warn(\n"
     ]
    },
    {
     "name": "stdout",
     "output_type": "stream",
     "text": [
      "[CV 5/5] END init=k-means++, max_iter=400, n_clusters=3, n_init=9, tol=0.0001;, score=-749.574 total time=   0.8s\n"
     ]
    },
    {
     "name": "stderr",
     "output_type": "stream",
     "text": [
      "C:\\Users\\Admin\\anaconda3\\Lib\\site-packages\\sklearn\\cluster\\_kmeans.py:1382: UserWarning: KMeans is known to have a memory leak on Windows with MKL, when there are less chunks than available threads. You can avoid it by setting the environment variable OMP_NUM_THREADS=1.\n",
      "  warnings.warn(\n"
     ]
    },
    {
     "name": "stdout",
     "output_type": "stream",
     "text": [
      "[CV 1/5] END init=k-means++, max_iter=400, n_clusters=3, n_init=9, tol=0.0002;, score=-583.323 total time=   0.8s\n"
     ]
    },
    {
     "name": "stderr",
     "output_type": "stream",
     "text": [
      "C:\\Users\\Admin\\anaconda3\\Lib\\site-packages\\sklearn\\cluster\\_kmeans.py:1382: UserWarning: KMeans is known to have a memory leak on Windows with MKL, when there are less chunks than available threads. You can avoid it by setting the environment variable OMP_NUM_THREADS=1.\n",
      "  warnings.warn(\n"
     ]
    },
    {
     "name": "stdout",
     "output_type": "stream",
     "text": [
      "[CV 2/5] END init=k-means++, max_iter=400, n_clusters=3, n_init=9, tol=0.0002;, score=-666.840 total time=   0.8s\n"
     ]
    },
    {
     "name": "stderr",
     "output_type": "stream",
     "text": [
      "C:\\Users\\Admin\\anaconda3\\Lib\\site-packages\\sklearn\\cluster\\_kmeans.py:1382: UserWarning: KMeans is known to have a memory leak on Windows with MKL, when there are less chunks than available threads. You can avoid it by setting the environment variable OMP_NUM_THREADS=1.\n",
      "  warnings.warn(\n"
     ]
    },
    {
     "name": "stdout",
     "output_type": "stream",
     "text": [
      "[CV 3/5] END init=k-means++, max_iter=400, n_clusters=3, n_init=9, tol=0.0002;, score=-675.732 total time=   0.8s\n"
     ]
    },
    {
     "name": "stderr",
     "output_type": "stream",
     "text": [
      "C:\\Users\\Admin\\anaconda3\\Lib\\site-packages\\sklearn\\cluster\\_kmeans.py:1382: UserWarning: KMeans is known to have a memory leak on Windows with MKL, when there are less chunks than available threads. You can avoid it by setting the environment variable OMP_NUM_THREADS=1.\n",
      "  warnings.warn(\n"
     ]
    },
    {
     "name": "stdout",
     "output_type": "stream",
     "text": [
      "[CV 4/5] END init=k-means++, max_iter=400, n_clusters=3, n_init=9, tol=0.0002;, score=-623.377 total time=   0.8s\n"
     ]
    },
    {
     "name": "stderr",
     "output_type": "stream",
     "text": [
      "C:\\Users\\Admin\\anaconda3\\Lib\\site-packages\\sklearn\\cluster\\_kmeans.py:1382: UserWarning: KMeans is known to have a memory leak on Windows with MKL, when there are less chunks than available threads. You can avoid it by setting the environment variable OMP_NUM_THREADS=1.\n",
      "  warnings.warn(\n"
     ]
    },
    {
     "name": "stdout",
     "output_type": "stream",
     "text": [
      "[CV 5/5] END init=k-means++, max_iter=400, n_clusters=3, n_init=9, tol=0.0002;, score=-749.574 total time=   0.8s\n",
      "[CV 1/5] END init=randomly, max_iter=300, n_clusters=3, n_init=5, tol=0.0001;, score=nan total time=   0.0s\n",
      "[CV 2/5] END init=randomly, max_iter=300, n_clusters=3, n_init=5, tol=0.0001;, score=nan total time=   0.0s\n",
      "[CV 3/5] END init=randomly, max_iter=300, n_clusters=3, n_init=5, tol=0.0001;, score=nan total time=   0.0s\n",
      "[CV 4/5] END init=randomly, max_iter=300, n_clusters=3, n_init=5, tol=0.0001;, score=nan total time=   0.0s\n",
      "[CV 5/5] END init=randomly, max_iter=300, n_clusters=3, n_init=5, tol=0.0001;, score=nan total time=   0.0s\n",
      "[CV 1/5] END init=randomly, max_iter=300, n_clusters=3, n_init=5, tol=0.0002;, score=nan total time=   0.0s\n",
      "[CV 2/5] END init=randomly, max_iter=300, n_clusters=3, n_init=5, tol=0.0002;, score=nan total time=   0.0s\n",
      "[CV 3/5] END init=randomly, max_iter=300, n_clusters=3, n_init=5, tol=0.0002;, score=nan total time=   0.0s\n",
      "[CV 4/5] END init=randomly, max_iter=300, n_clusters=3, n_init=5, tol=0.0002;, score=nan total time=   0.0s\n",
      "[CV 5/5] END init=randomly, max_iter=300, n_clusters=3, n_init=5, tol=0.0002;, score=nan total time=   0.0s\n",
      "[CV 1/5] END init=randomly, max_iter=300, n_clusters=3, n_init=6, tol=0.0001;, score=nan total time=   0.0s\n",
      "[CV 2/5] END init=randomly, max_iter=300, n_clusters=3, n_init=6, tol=0.0001;, score=nan total time=   0.0s\n",
      "[CV 3/5] END init=randomly, max_iter=300, n_clusters=3, n_init=6, tol=0.0001;, score=nan total time=   0.0s\n",
      "[CV 4/5] END init=randomly, max_iter=300, n_clusters=3, n_init=6, tol=0.0001;, score=nan total time=   0.0s\n",
      "[CV 5/5] END init=randomly, max_iter=300, n_clusters=3, n_init=6, tol=0.0001;, score=nan total time=   0.0s\n",
      "[CV 1/5] END init=randomly, max_iter=300, n_clusters=3, n_init=6, tol=0.0002;, score=nan total time=   0.0s\n",
      "[CV 2/5] END init=randomly, max_iter=300, n_clusters=3, n_init=6, tol=0.0002;, score=nan total time=   0.0s\n",
      "[CV 3/5] END init=randomly, max_iter=300, n_clusters=3, n_init=6, tol=0.0002;, score=nan total time=   0.0s\n",
      "[CV 4/5] END init=randomly, max_iter=300, n_clusters=3, n_init=6, tol=0.0002;, score=nan total time=   0.0s\n",
      "[CV 5/5] END init=randomly, max_iter=300, n_clusters=3, n_init=6, tol=0.0002;, score=nan total time=   0.0s\n",
      "[CV 1/5] END init=randomly, max_iter=300, n_clusters=3, n_init=7, tol=0.0001;, score=nan total time=   0.0s\n",
      "[CV 2/5] END init=randomly, max_iter=300, n_clusters=3, n_init=7, tol=0.0001;, score=nan total time=   0.0s\n",
      "[CV 3/5] END init=randomly, max_iter=300, n_clusters=3, n_init=7, tol=0.0001;, score=nan total time=   0.0s\n",
      "[CV 4/5] END init=randomly, max_iter=300, n_clusters=3, n_init=7, tol=0.0001;, score=nan total time=   0.0s\n",
      "[CV 5/5] END init=randomly, max_iter=300, n_clusters=3, n_init=7, tol=0.0001;, score=nan total time=   0.0s\n",
      "[CV 1/5] END init=randomly, max_iter=300, n_clusters=3, n_init=7, tol=0.0002;, score=nan total time=   0.0s\n",
      "[CV 2/5] END init=randomly, max_iter=300, n_clusters=3, n_init=7, tol=0.0002;, score=nan total time=   0.0s\n",
      "[CV 3/5] END init=randomly, max_iter=300, n_clusters=3, n_init=7, tol=0.0002;, score=nan total time=   0.0s\n",
      "[CV 4/5] END init=randomly, max_iter=300, n_clusters=3, n_init=7, tol=0.0002;, score=nan total time=   0.0s\n",
      "[CV 5/5] END init=randomly, max_iter=300, n_clusters=3, n_init=7, tol=0.0002;, score=nan total time=   0.0s\n",
      "[CV 1/5] END init=randomly, max_iter=300, n_clusters=3, n_init=8, tol=0.0001;, score=nan total time=   0.0s\n",
      "[CV 2/5] END init=randomly, max_iter=300, n_clusters=3, n_init=8, tol=0.0001;, score=nan total time=   0.0s\n",
      "[CV 3/5] END init=randomly, max_iter=300, n_clusters=3, n_init=8, tol=0.0001;, score=nan total time=   0.0s\n",
      "[CV 4/5] END init=randomly, max_iter=300, n_clusters=3, n_init=8, tol=0.0001;, score=nan total time=   0.0s\n",
      "[CV 5/5] END init=randomly, max_iter=300, n_clusters=3, n_init=8, tol=0.0001;, score=nan total time=   0.0s\n",
      "[CV 1/5] END init=randomly, max_iter=300, n_clusters=3, n_init=8, tol=0.0002;, score=nan total time=   0.0s\n",
      "[CV 2/5] END init=randomly, max_iter=300, n_clusters=3, n_init=8, tol=0.0002;, score=nan total time=   0.0s\n",
      "[CV 3/5] END init=randomly, max_iter=300, n_clusters=3, n_init=8, tol=0.0002;, score=nan total time=   0.0s\n",
      "[CV 4/5] END init=randomly, max_iter=300, n_clusters=3, n_init=8, tol=0.0002;, score=nan total time=   0.0s\n",
      "[CV 5/5] END init=randomly, max_iter=300, n_clusters=3, n_init=8, tol=0.0002;, score=nan total time=   0.0s\n",
      "[CV 1/5] END init=randomly, max_iter=300, n_clusters=3, n_init=9, tol=0.0001;, score=nan total time=   0.0s\n",
      "[CV 2/5] END init=randomly, max_iter=300, n_clusters=3, n_init=9, tol=0.0001;, score=nan total time=   0.0s\n",
      "[CV 3/5] END init=randomly, max_iter=300, n_clusters=3, n_init=9, tol=0.0001;, score=nan total time=   0.0s\n",
      "[CV 4/5] END init=randomly, max_iter=300, n_clusters=3, n_init=9, tol=0.0001;, score=nan total time=   0.0s\n",
      "[CV 5/5] END init=randomly, max_iter=300, n_clusters=3, n_init=9, tol=0.0001;, score=nan total time=   0.0s\n",
      "[CV 1/5] END init=randomly, max_iter=300, n_clusters=3, n_init=9, tol=0.0002;, score=nan total time=   0.0s\n",
      "[CV 2/5] END init=randomly, max_iter=300, n_clusters=3, n_init=9, tol=0.0002;, score=nan total time=   0.0s\n",
      "[CV 3/5] END init=randomly, max_iter=300, n_clusters=3, n_init=9, tol=0.0002;, score=nan total time=   0.0s\n",
      "[CV 4/5] END init=randomly, max_iter=300, n_clusters=3, n_init=9, tol=0.0002;, score=nan total time=   0.0s\n",
      "[CV 5/5] END init=randomly, max_iter=300, n_clusters=3, n_init=9, tol=0.0002;, score=nan total time=   0.0s\n",
      "[CV 1/5] END init=randomly, max_iter=400, n_clusters=3, n_init=5, tol=0.0001;, score=nan total time=   0.0s\n",
      "[CV 2/5] END init=randomly, max_iter=400, n_clusters=3, n_init=5, tol=0.0001;, score=nan total time=   0.0s\n",
      "[CV 3/5] END init=randomly, max_iter=400, n_clusters=3, n_init=5, tol=0.0001;, score=nan total time=   0.0s\n",
      "[CV 4/5] END init=randomly, max_iter=400, n_clusters=3, n_init=5, tol=0.0001;, score=nan total time=   0.0s\n",
      "[CV 5/5] END init=randomly, max_iter=400, n_clusters=3, n_init=5, tol=0.0001;, score=nan total time=   0.0s\n",
      "[CV 1/5] END init=randomly, max_iter=400, n_clusters=3, n_init=5, tol=0.0002;, score=nan total time=   0.0s\n",
      "[CV 2/5] END init=randomly, max_iter=400, n_clusters=3, n_init=5, tol=0.0002;, score=nan total time=   0.0s\n",
      "[CV 3/5] END init=randomly, max_iter=400, n_clusters=3, n_init=5, tol=0.0002;, score=nan total time=   0.0s\n",
      "[CV 4/5] END init=randomly, max_iter=400, n_clusters=3, n_init=5, tol=0.0002;, score=nan total time=   0.0s\n",
      "[CV 5/5] END init=randomly, max_iter=400, n_clusters=3, n_init=5, tol=0.0002;, score=nan total time=   0.0s\n",
      "[CV 1/5] END init=randomly, max_iter=400, n_clusters=3, n_init=6, tol=0.0001;, score=nan total time=   0.0s\n",
      "[CV 2/5] END init=randomly, max_iter=400, n_clusters=3, n_init=6, tol=0.0001;, score=nan total time=   0.0s\n",
      "[CV 3/5] END init=randomly, max_iter=400, n_clusters=3, n_init=6, tol=0.0001;, score=nan total time=   0.0s\n",
      "[CV 4/5] END init=randomly, max_iter=400, n_clusters=3, n_init=6, tol=0.0001;, score=nan total time=   0.0s\n",
      "[CV 5/5] END init=randomly, max_iter=400, n_clusters=3, n_init=6, tol=0.0001;, score=nan total time=   0.0s\n",
      "[CV 1/5] END init=randomly, max_iter=400, n_clusters=3, n_init=6, tol=0.0002;, score=nan total time=   0.0s\n",
      "[CV 2/5] END init=randomly, max_iter=400, n_clusters=3, n_init=6, tol=0.0002;, score=nan total time=   0.0s\n",
      "[CV 3/5] END init=randomly, max_iter=400, n_clusters=3, n_init=6, tol=0.0002;, score=nan total time=   0.0s\n",
      "[CV 4/5] END init=randomly, max_iter=400, n_clusters=3, n_init=6, tol=0.0002;, score=nan total time=   0.0s\n",
      "[CV 5/5] END init=randomly, max_iter=400, n_clusters=3, n_init=6, tol=0.0002;, score=nan total time=   0.0s\n",
      "[CV 1/5] END init=randomly, max_iter=400, n_clusters=3, n_init=7, tol=0.0001;, score=nan total time=   0.0s\n",
      "[CV 2/5] END init=randomly, max_iter=400, n_clusters=3, n_init=7, tol=0.0001;, score=nan total time=   0.0s\n",
      "[CV 3/5] END init=randomly, max_iter=400, n_clusters=3, n_init=7, tol=0.0001;, score=nan total time=   0.0s\n",
      "[CV 4/5] END init=randomly, max_iter=400, n_clusters=3, n_init=7, tol=0.0001;, score=nan total time=   0.0s\n",
      "[CV 5/5] END init=randomly, max_iter=400, n_clusters=3, n_init=7, tol=0.0001;, score=nan total time=   0.0s\n",
      "[CV 1/5] END init=randomly, max_iter=400, n_clusters=3, n_init=7, tol=0.0002;, score=nan total time=   0.0s\n",
      "[CV 2/5] END init=randomly, max_iter=400, n_clusters=3, n_init=7, tol=0.0002;, score=nan total time=   0.0s\n",
      "[CV 3/5] END init=randomly, max_iter=400, n_clusters=3, n_init=7, tol=0.0002;, score=nan total time=   0.0s\n",
      "[CV 4/5] END init=randomly, max_iter=400, n_clusters=3, n_init=7, tol=0.0002;, score=nan total time=   0.0s\n",
      "[CV 5/5] END init=randomly, max_iter=400, n_clusters=3, n_init=7, tol=0.0002;, score=nan total time=   0.0s\n",
      "[CV 1/5] END init=randomly, max_iter=400, n_clusters=3, n_init=8, tol=0.0001;, score=nan total time=   0.0s\n",
      "[CV 2/5] END init=randomly, max_iter=400, n_clusters=3, n_init=8, tol=0.0001;, score=nan total time=   0.0s\n",
      "[CV 3/5] END init=randomly, max_iter=400, n_clusters=3, n_init=8, tol=0.0001;, score=nan total time=   0.0s\n",
      "[CV 4/5] END init=randomly, max_iter=400, n_clusters=3, n_init=8, tol=0.0001;, score=nan total time=   0.0s\n",
      "[CV 5/5] END init=randomly, max_iter=400, n_clusters=3, n_init=8, tol=0.0001;, score=nan total time=   0.0s\n",
      "[CV 1/5] END init=randomly, max_iter=400, n_clusters=3, n_init=8, tol=0.0002;, score=nan total time=   0.0s\n",
      "[CV 2/5] END init=randomly, max_iter=400, n_clusters=3, n_init=8, tol=0.0002;, score=nan total time=   0.0s\n",
      "[CV 3/5] END init=randomly, max_iter=400, n_clusters=3, n_init=8, tol=0.0002;, score=nan total time=   0.0s\n",
      "[CV 4/5] END init=randomly, max_iter=400, n_clusters=3, n_init=8, tol=0.0002;, score=nan total time=   0.0s\n",
      "[CV 5/5] END init=randomly, max_iter=400, n_clusters=3, n_init=8, tol=0.0002;, score=nan total time=   0.0s\n",
      "[CV 1/5] END init=randomly, max_iter=400, n_clusters=3, n_init=9, tol=0.0001;, score=nan total time=   0.0s\n",
      "[CV 2/5] END init=randomly, max_iter=400, n_clusters=3, n_init=9, tol=0.0001;, score=nan total time=   0.0s\n",
      "[CV 3/5] END init=randomly, max_iter=400, n_clusters=3, n_init=9, tol=0.0001;, score=nan total time=   0.0s\n",
      "[CV 4/5] END init=randomly, max_iter=400, n_clusters=3, n_init=9, tol=0.0001;, score=nan total time=   0.0s\n",
      "[CV 5/5] END init=randomly, max_iter=400, n_clusters=3, n_init=9, tol=0.0001;, score=nan total time=   0.0s\n",
      "[CV 1/5] END init=randomly, max_iter=400, n_clusters=3, n_init=9, tol=0.0002;, score=nan total time=   0.0s\n",
      "[CV 2/5] END init=randomly, max_iter=400, n_clusters=3, n_init=9, tol=0.0002;, score=nan total time=   0.0s\n",
      "[CV 3/5] END init=randomly, max_iter=400, n_clusters=3, n_init=9, tol=0.0002;, score=nan total time=   0.0s\n",
      "[CV 4/5] END init=randomly, max_iter=400, n_clusters=3, n_init=9, tol=0.0002;, score=nan total time=   0.0s\n",
      "[CV 5/5] END init=randomly, max_iter=400, n_clusters=3, n_init=9, tol=0.0002;, score=nan total time=   0.0s\n"
     ]
    },
    {
     "name": "stderr",
     "output_type": "stream",
     "text": [
      "C:\\Users\\Admin\\anaconda3\\Lib\\site-packages\\sklearn\\model_selection\\_validation.py:378: FitFailedWarning: \n",
      "100 fits failed out of a total of 200.\n",
      "The score on these train-test partitions for these parameters will be set to nan.\n",
      "If these failures are not expected, you can try to debug them by setting error_score='raise'.\n",
      "\n",
      "Below are more details about the failures:\n",
      "--------------------------------------------------------------------------------\n",
      "100 fits failed with the following error:\n",
      "Traceback (most recent call last):\n",
      "  File \"C:\\Users\\Admin\\anaconda3\\Lib\\site-packages\\sklearn\\model_selection\\_validation.py\", line 684, in _fit_and_score\n",
      "    estimator.fit(X_train, **fit_params)\n",
      "  File \"C:\\Users\\Admin\\anaconda3\\Lib\\site-packages\\sklearn\\cluster\\_kmeans.py\", line 1415, in fit\n",
      "    self._validate_params()\n",
      "  File \"C:\\Users\\Admin\\anaconda3\\Lib\\site-packages\\sklearn\\base.py\", line 600, in _validate_params\n",
      "    validate_parameter_constraints(\n",
      "  File \"C:\\Users\\Admin\\anaconda3\\Lib\\site-packages\\sklearn\\utils\\_param_validation.py\", line 97, in validate_parameter_constraints\n",
      "    raise InvalidParameterError(\n",
      "sklearn.utils._param_validation.InvalidParameterError: The 'init' parameter of KMeans must be a str among {'k-means++', 'random'}, a callable or an array-like. Got 'randomly' instead.\n",
      "\n",
      "  warnings.warn(some_fits_failed_message, FitFailedWarning)\n",
      "C:\\Users\\Admin\\anaconda3\\Lib\\site-packages\\sklearn\\model_selection\\_search.py:952: UserWarning: One or more of the test scores are non-finite: [-659.37577017 -659.37577017 -659.76917238 -659.76917238 -659.76917238\n",
      " -659.76917238 -659.76917238 -659.76917238 -659.76917238 -659.76917238\n",
      " -659.76917238 -659.76917238 -659.76917238 -659.76917238 -659.76917238\n",
      " -659.76917238 -659.76917238 -659.76917238 -659.76917238 -659.76917238\n",
      "           nan           nan           nan           nan           nan\n",
      "           nan           nan           nan           nan           nan\n",
      "           nan           nan           nan           nan           nan\n",
      "           nan           nan           nan           nan           nan]\n",
      "  warnings.warn(\n",
      "C:\\Users\\Admin\\anaconda3\\Lib\\site-packages\\sklearn\\cluster\\_kmeans.py:1382: UserWarning: KMeans is known to have a memory leak on Windows with MKL, when there are less chunks than available threads. You can avoid it by setting the environment variable OMP_NUM_THREADS=1.\n",
      "  warnings.warn(\n"
     ]
    },
    {
     "data": {
      "text/html": [
       "<style>#sk-container-id-7 {color: black;background-color: white;}#sk-container-id-7 pre{padding: 0;}#sk-container-id-7 div.sk-toggleable {background-color: white;}#sk-container-id-7 label.sk-toggleable__label {cursor: pointer;display: block;width: 100%;margin-bottom: 0;padding: 0.3em;box-sizing: border-box;text-align: center;}#sk-container-id-7 label.sk-toggleable__label-arrow:before {content: \"▸\";float: left;margin-right: 0.25em;color: #696969;}#sk-container-id-7 label.sk-toggleable__label-arrow:hover:before {color: black;}#sk-container-id-7 div.sk-estimator:hover label.sk-toggleable__label-arrow:before {color: black;}#sk-container-id-7 div.sk-toggleable__content {max-height: 0;max-width: 0;overflow: hidden;text-align: left;background-color: #f0f8ff;}#sk-container-id-7 div.sk-toggleable__content pre {margin: 0.2em;color: black;border-radius: 0.25em;background-color: #f0f8ff;}#sk-container-id-7 input.sk-toggleable__control:checked~div.sk-toggleable__content {max-height: 200px;max-width: 100%;overflow: auto;}#sk-container-id-7 input.sk-toggleable__control:checked~label.sk-toggleable__label-arrow:before {content: \"▾\";}#sk-container-id-7 div.sk-estimator input.sk-toggleable__control:checked~label.sk-toggleable__label {background-color: #d4ebff;}#sk-container-id-7 div.sk-label input.sk-toggleable__control:checked~label.sk-toggleable__label {background-color: #d4ebff;}#sk-container-id-7 input.sk-hidden--visually {border: 0;clip: rect(1px 1px 1px 1px);clip: rect(1px, 1px, 1px, 1px);height: 1px;margin: -1px;overflow: hidden;padding: 0;position: absolute;width: 1px;}#sk-container-id-7 div.sk-estimator {font-family: monospace;background-color: #f0f8ff;border: 1px dotted black;border-radius: 0.25em;box-sizing: border-box;margin-bottom: 0.5em;}#sk-container-id-7 div.sk-estimator:hover {background-color: #d4ebff;}#sk-container-id-7 div.sk-parallel-item::after {content: \"\";width: 100%;border-bottom: 1px solid gray;flex-grow: 1;}#sk-container-id-7 div.sk-label:hover label.sk-toggleable__label {background-color: #d4ebff;}#sk-container-id-7 div.sk-serial::before {content: \"\";position: absolute;border-left: 1px solid gray;box-sizing: border-box;top: 0;bottom: 0;left: 50%;z-index: 0;}#sk-container-id-7 div.sk-serial {display: flex;flex-direction: column;align-items: center;background-color: white;padding-right: 0.2em;padding-left: 0.2em;position: relative;}#sk-container-id-7 div.sk-item {position: relative;z-index: 1;}#sk-container-id-7 div.sk-parallel {display: flex;align-items: stretch;justify-content: center;background-color: white;position: relative;}#sk-container-id-7 div.sk-item::before, #sk-container-id-7 div.sk-parallel-item::before {content: \"\";position: absolute;border-left: 1px solid gray;box-sizing: border-box;top: 0;bottom: 0;left: 50%;z-index: -1;}#sk-container-id-7 div.sk-parallel-item {display: flex;flex-direction: column;z-index: 1;position: relative;background-color: white;}#sk-container-id-7 div.sk-parallel-item:first-child::after {align-self: flex-end;width: 50%;}#sk-container-id-7 div.sk-parallel-item:last-child::after {align-self: flex-start;width: 50%;}#sk-container-id-7 div.sk-parallel-item:only-child::after {width: 0;}#sk-container-id-7 div.sk-dashed-wrapped {border: 1px dashed gray;margin: 0 0.4em 0.5em 0.4em;box-sizing: border-box;padding-bottom: 0.4em;background-color: white;}#sk-container-id-7 div.sk-label label {font-family: monospace;font-weight: bold;display: inline-block;line-height: 1.2em;}#sk-container-id-7 div.sk-label-container {text-align: center;}#sk-container-id-7 div.sk-container {/* jupyter's `normalize.less` sets `[hidden] { display: none; }` but bootstrap.min.css set `[hidden] { display: none !important; }` so we also need the `!important` here to be able to override the default hidden behavior on the sphinx rendered scikit-learn.org. See: https://github.com/scikit-learn/scikit-learn/issues/21755 */display: inline-block !important;position: relative;}#sk-container-id-7 div.sk-text-repr-fallback {display: none;}</style><div id=\"sk-container-id-7\" class=\"sk-top-container\"><div class=\"sk-text-repr-fallback\"><pre>GridSearchCV(estimator=KMeans(),\n",
       "             param_grid={&#x27;init&#x27;: [&#x27;k-means++&#x27;, &#x27;randomly&#x27;],\n",
       "                         &#x27;max_iter&#x27;: [300, 400], &#x27;n_clusters&#x27;: [3],\n",
       "                         &#x27;n_init&#x27;: [5, 6, 7, 8, 9], &#x27;tol&#x27;: [0.0001, 0.0002]},\n",
       "             verbose=3)</pre><b>In a Jupyter environment, please rerun this cell to show the HTML representation or trust the notebook. <br />On GitHub, the HTML representation is unable to render, please try loading this page with nbviewer.org.</b></div><div class=\"sk-container\" hidden><div class=\"sk-item sk-dashed-wrapped\"><div class=\"sk-label-container\"><div class=\"sk-label sk-toggleable\"><input class=\"sk-toggleable__control sk-hidden--visually\" id=\"sk-estimator-id-11\" type=\"checkbox\" ><label for=\"sk-estimator-id-11\" class=\"sk-toggleable__label sk-toggleable__label-arrow\">GridSearchCV</label><div class=\"sk-toggleable__content\"><pre>GridSearchCV(estimator=KMeans(),\n",
       "             param_grid={&#x27;init&#x27;: [&#x27;k-means++&#x27;, &#x27;randomly&#x27;],\n",
       "                         &#x27;max_iter&#x27;: [300, 400], &#x27;n_clusters&#x27;: [3],\n",
       "                         &#x27;n_init&#x27;: [5, 6, 7, 8, 9], &#x27;tol&#x27;: [0.0001, 0.0002]},\n",
       "             verbose=3)</pre></div></div></div><div class=\"sk-parallel\"><div class=\"sk-parallel-item\"><div class=\"sk-item\"><div class=\"sk-label-container\"><div class=\"sk-label sk-toggleable\"><input class=\"sk-toggleable__control sk-hidden--visually\" id=\"sk-estimator-id-12\" type=\"checkbox\" ><label for=\"sk-estimator-id-12\" class=\"sk-toggleable__label sk-toggleable__label-arrow\">estimator: KMeans</label><div class=\"sk-toggleable__content\"><pre>KMeans()</pre></div></div></div><div class=\"sk-serial\"><div class=\"sk-item\"><div class=\"sk-estimator sk-toggleable\"><input class=\"sk-toggleable__control sk-hidden--visually\" id=\"sk-estimator-id-13\" type=\"checkbox\" ><label for=\"sk-estimator-id-13\" class=\"sk-toggleable__label sk-toggleable__label-arrow\">KMeans</label><div class=\"sk-toggleable__content\"><pre>KMeans()</pre></div></div></div></div></div></div></div></div></div></div>"
      ],
      "text/plain": [
       "GridSearchCV(estimator=KMeans(),\n",
       "             param_grid={'init': ['k-means++', 'randomly'],\n",
       "                         'max_iter': [300, 400], 'n_clusters': [3],\n",
       "                         'n_init': [5, 6, 7, 8, 9], 'tol': [0.0001, 0.0002]},\n",
       "             verbose=3)"
      ]
     },
     "execution_count": 79,
     "metadata": {},
     "output_type": "execute_result"
    }
   ],
   "source": [
    "from sklearn.model_selection import GridSearchCV\n",
    "\n",
    "# defining parameter range\n",
    "param_grid = {'n_clusters': [3],'init': ['k-means++', \"randomly\"],'n_init': [5,6,7,8,9], \"max_iter\":[300, 400], \"tol\":[0.0001, 0.0002]}\n",
    "\n",
    "grid = GridSearchCV(KMeans(), param_grid, refit = True, verbose = 3)\n",
    "\n",
    "# fitting the model for grid search\n",
    "grid.fit(data[0])\n"
   ]
  },
  {
   "cell_type": "code",
   "execution_count": 80,
   "id": "10be83ef",
   "metadata": {},
   "outputs": [
    {
     "name": "stdout",
     "output_type": "stream",
     "text": [
      "{'init': 'k-means++', 'max_iter': 300, 'n_clusters': 3, 'n_init': 5, 'tol': 0.0001}\n",
      "KMeans(n_clusters=3, n_init=5)\n"
     ]
    }
   ],
   "source": [
    "# print best parameter after tuning\n",
    "print(grid.best_params_)\n",
    "\n",
    "# print how our model looks after hyper-parameter tuning\n",
    "print(grid.best_estimator_)\n"
   ]
  },
  {
   "cell_type": "code",
   "execution_count": 81,
   "id": "8c8e3b82",
   "metadata": {},
   "outputs": [
    {
     "name": "stderr",
     "output_type": "stream",
     "text": [
      "C:\\Users\\Admin\\anaconda3\\Lib\\site-packages\\sklearn\\cluster\\_kmeans.py:1382: UserWarning: KMeans is known to have a memory leak on Windows with MKL, when there are less chunks than available threads. You can avoid it by setting the environment variable OMP_NUM_THREADS=1.\n",
      "  warnings.warn(\n"
     ]
    },
    {
     "data": {
      "text/html": [
       "<style>#sk-container-id-8 {color: black;background-color: white;}#sk-container-id-8 pre{padding: 0;}#sk-container-id-8 div.sk-toggleable {background-color: white;}#sk-container-id-8 label.sk-toggleable__label {cursor: pointer;display: block;width: 100%;margin-bottom: 0;padding: 0.3em;box-sizing: border-box;text-align: center;}#sk-container-id-8 label.sk-toggleable__label-arrow:before {content: \"▸\";float: left;margin-right: 0.25em;color: #696969;}#sk-container-id-8 label.sk-toggleable__label-arrow:hover:before {color: black;}#sk-container-id-8 div.sk-estimator:hover label.sk-toggleable__label-arrow:before {color: black;}#sk-container-id-8 div.sk-toggleable__content {max-height: 0;max-width: 0;overflow: hidden;text-align: left;background-color: #f0f8ff;}#sk-container-id-8 div.sk-toggleable__content pre {margin: 0.2em;color: black;border-radius: 0.25em;background-color: #f0f8ff;}#sk-container-id-8 input.sk-toggleable__control:checked~div.sk-toggleable__content {max-height: 200px;max-width: 100%;overflow: auto;}#sk-container-id-8 input.sk-toggleable__control:checked~label.sk-toggleable__label-arrow:before {content: \"▾\";}#sk-container-id-8 div.sk-estimator input.sk-toggleable__control:checked~label.sk-toggleable__label {background-color: #d4ebff;}#sk-container-id-8 div.sk-label input.sk-toggleable__control:checked~label.sk-toggleable__label {background-color: #d4ebff;}#sk-container-id-8 input.sk-hidden--visually {border: 0;clip: rect(1px 1px 1px 1px);clip: rect(1px, 1px, 1px, 1px);height: 1px;margin: -1px;overflow: hidden;padding: 0;position: absolute;width: 1px;}#sk-container-id-8 div.sk-estimator {font-family: monospace;background-color: #f0f8ff;border: 1px dotted black;border-radius: 0.25em;box-sizing: border-box;margin-bottom: 0.5em;}#sk-container-id-8 div.sk-estimator:hover {background-color: #d4ebff;}#sk-container-id-8 div.sk-parallel-item::after {content: \"\";width: 100%;border-bottom: 1px solid gray;flex-grow: 1;}#sk-container-id-8 div.sk-label:hover label.sk-toggleable__label {background-color: #d4ebff;}#sk-container-id-8 div.sk-serial::before {content: \"\";position: absolute;border-left: 1px solid gray;box-sizing: border-box;top: 0;bottom: 0;left: 50%;z-index: 0;}#sk-container-id-8 div.sk-serial {display: flex;flex-direction: column;align-items: center;background-color: white;padding-right: 0.2em;padding-left: 0.2em;position: relative;}#sk-container-id-8 div.sk-item {position: relative;z-index: 1;}#sk-container-id-8 div.sk-parallel {display: flex;align-items: stretch;justify-content: center;background-color: white;position: relative;}#sk-container-id-8 div.sk-item::before, #sk-container-id-8 div.sk-parallel-item::before {content: \"\";position: absolute;border-left: 1px solid gray;box-sizing: border-box;top: 0;bottom: 0;left: 50%;z-index: -1;}#sk-container-id-8 div.sk-parallel-item {display: flex;flex-direction: column;z-index: 1;position: relative;background-color: white;}#sk-container-id-8 div.sk-parallel-item:first-child::after {align-self: flex-end;width: 50%;}#sk-container-id-8 div.sk-parallel-item:last-child::after {align-self: flex-start;width: 50%;}#sk-container-id-8 div.sk-parallel-item:only-child::after {width: 0;}#sk-container-id-8 div.sk-dashed-wrapped {border: 1px dashed gray;margin: 0 0.4em 0.5em 0.4em;box-sizing: border-box;padding-bottom: 0.4em;background-color: white;}#sk-container-id-8 div.sk-label label {font-family: monospace;font-weight: bold;display: inline-block;line-height: 1.2em;}#sk-container-id-8 div.sk-label-container {text-align: center;}#sk-container-id-8 div.sk-container {/* jupyter's `normalize.less` sets `[hidden] { display: none; }` but bootstrap.min.css set `[hidden] { display: none !important; }` so we also need the `!important` here to be able to override the default hidden behavior on the sphinx rendered scikit-learn.org. See: https://github.com/scikit-learn/scikit-learn/issues/21755 */display: inline-block !important;position: relative;}#sk-container-id-8 div.sk-text-repr-fallback {display: none;}</style><div id=\"sk-container-id-8\" class=\"sk-top-container\"><div class=\"sk-text-repr-fallback\"><pre>KMeans(n_clusters=3, n_init=5)</pre><b>In a Jupyter environment, please rerun this cell to show the HTML representation or trust the notebook. <br />On GitHub, the HTML representation is unable to render, please try loading this page with nbviewer.org.</b></div><div class=\"sk-container\" hidden><div class=\"sk-item\"><div class=\"sk-estimator sk-toggleable\"><input class=\"sk-toggleable__control sk-hidden--visually\" id=\"sk-estimator-id-14\" type=\"checkbox\" checked><label for=\"sk-estimator-id-14\" class=\"sk-toggleable__label sk-toggleable__label-arrow\">KMeans</label><div class=\"sk-toggleable__content\"><pre>KMeans(n_clusters=3, n_init=5)</pre></div></div></div></div></div>"
      ],
      "text/plain": [
       "KMeans(n_clusters=3, n_init=5)"
      ]
     },
     "execution_count": 81,
     "metadata": {},
     "output_type": "execute_result"
    }
   ],
   "source": [
    "model = KMeans(n_clusters = 3, init = \"k-means++\", n_init = 5, max_iter = 300, tol = 0.0001)\n",
    "model.fit(data[0])"
   ]
  },
  {
   "cell_type": "code",
   "execution_count": 86,
   "id": "da5c9380",
   "metadata": {},
   "outputs": [
    {
     "data": {
      "image/png": "[encoded data removed]",
      "text/plain": [
       "<Figure size 640x480 with 1 Axes>"
      ]
     },
     "metadata": {},
     "output_type": "display_data"
    }
   ],
   "source": [
    "plt.scatter(data[0][:,0], data[0][:,1], c = model.labels_, cmap = \"rainbow\")\n",
    "plt.grid()\n",
    "plt.title(\"Output using Grid Search\", pad = 15, c = \"m\")\n",
    "plt.show()"
   ]
  },
  {
   "cell_type": "code",
   "execution_count": null,
   "id": "3837585d",
   "metadata": {},
   "outputs": [],
   "source": [
    "x = KMeans()"
   ]
  },
  {
   "cell_type": "code",
   "execution_count": null,
   "id": "b44a4c88",
   "metadata": {},
   "outputs": [],
   "source": []
  }
 ],
 "metadata": {
  "kernelspec": {
   "display_name": "Python 3 (ipykernel)",
   "language": "python",
   "name": "python3"
  },
  "language_info": {
   "codemirror_mode": {
    "name": "ipython",
    "version": 3
   },
   "file_extension": ".py",
   "mimetype": "text/x-python",
   "name": "python",
   "nbconvert_exporter": "python",
   "pygments_lexer": "ipython3",
   "version": "3.11.3"
  }
 },
 "nbformat": 4,
 "nbformat_minor": 5
}
